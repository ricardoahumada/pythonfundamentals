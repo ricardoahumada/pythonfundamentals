{
 "cells": [
  {
   "cell_type": "code",
   "execution_count": 57,
   "metadata": {},
   "outputs": [],
   "source": [
    "import my_sql_module as msm\n",
    "\n",
    "PGHOST = '...'\n",
    "PGDATABASE = '...'\n",
    "PGUSER = '...'\n",
    "PGPASSWORD = '..'"
   ]
  },
  {
   "cell_type": "code",
   "execution_count": 58,
   "metadata": {},
   "outputs": [
    {
     "name": "stdout",
     "output_type": "stream",
     "text": [
      "Database conn successful\n"
     ]
    }
   ],
   "source": [
    "# Una conexión para todo el programa\n",
    "conn = msm.create_server_connection(PGHOST, PGDATABASE, PGUSER, PGPASSWORD)"
   ]
  },
  {
   "cell_type": "code",
   "execution_count": 59,
   "metadata": {},
   "outputs": [
    {
     "name": "stdout",
     "output_type": "stream",
     "text": [
      "SQL: SELECT COUNT(DiSTINCT checkNumber) FROM payments\n",
      "259\n"
     ]
    }
   ],
   "source": [
    "# Total de pedidos\n",
    "def total_de_pedidos_unicos():\n",
    "\n",
    "    cur = None\n",
    "\n",
    "    data = None\n",
    "\n",
    "    SQL = 'SELECT COUNT(DiSTINCT checkNumber) FROM payments'\n",
    "    print('SQL:', SQL)\n",
    "\n",
    "    try:\n",
    "        cur = conn.cursor()\n",
    "        cur.execute(SQL)\n",
    "        data = cur.fetchall()\n",
    "    except Exception as err:\n",
    "        print(f\"Error: '{err}'\")\n",
    "        if conn: conn.rollback()\n",
    "    finally:\n",
    "        if cur:\n",
    "            cur.close()\n",
    "\n",
    "    return data[0][0]\n",
    "\n",
    "\n",
    "resultado = total_de_pedidos_unicos()\n",
    "\n",
    "print(resultado)"
   ]
  },
  {
   "cell_type": "code",
   "execution_count": 60,
   "metadata": {},
   "outputs": [
    {
     "name": "stdout",
     "output_type": "stream",
     "text": [
      "SQL: SELECT  DISTINCT orderNumber, orderlinenumber, quantityOrdered  FROM sales GROUP BY orderNumber,orderlinenumber ORDER BY orderNumber\n",
      "media: 324.49\n",
      "ventas: {10100: 151, 10101: 142, 10102: 80, 10103: 541, 10104: 443, 10105: 545, 10106: 675, 10107: 229, 10109: 212, 10110: 570, 10111: 217, 10112: 52, 10113: 143, 10114: 351, 10115: 210, 10116: 27, 10118: 36, 10119: 442, 10120: 525, 10121: 185, 10122: 545, 10123: 156, 10124: 448, 10125: 66, 10126: 617, 10127: 540, 10128: 157, 10129: 349, 10130: 73, 10131: 244, 10132: 36, 10133: 286, 10134: 227, 10135: 607, 10136: 102, 10137: 138, 10138: 420, 10139: 266, 10140: 385, 10141: 290, 10142: 577, 10143: 524, 10144: 20, 10145: 563, 10146: 76, 10147: 341, 10148: 430, 10149: 367, 10151: 342, 10152: 116, 10153: 458, 10154: 67, 10155: 454, 10156: 68, 10157: 216, 10158: 22, 10159: 585, 10160: 231, 10161: 358, 10162: 391, 10163: 225, 10164: 288, 10166: 98, 10167: 550, 10168: 642, 10169: 444, 10170: 142, 10171: 145, 10172: 263, 10173: 480, 10174: 220, 10175: 432, 10176: 325, 10177: 377, 10178: 413, 10179: 288, 10180: 458, 10181: 522, 10182: 571, 10183: 391, 10184: 519, 10185: 520, 10186: 267, 10188: 301, 10189: 28, 10190: 170, 10191: 317, 10192: 585, 10193: 447, 10194: 396, 10195: 385, 10196: 316, 10197: 503, 10199: 115, 10201: 214, 10202: 271, 10203: 391, 10204: 619, 10205: 180, 10206: 355, 10207: 615, 10208: 530, 10209: 269, 10211: 530, 10212: 612, 10213: 90, 10214: 241, 10215: 396, 10216: 43, 10217: 240, 10218: 56, 10219: 147, 10220: 289, 10221: 167, 10222: 717, 10223: 497, 10224: 241, 10225: 483, 10226: 237, 10227: 502, 10228: 194, 10229: 476, 10230: 338, 10231: 91, 10232: 272, 10233: 105, 10234: 354, 10235: 390, 10236: 81, 10237: 239, 10238: 280, 10239: 163, 10241: 382, 10242: 46, 10243: 80, 10244: 301, 10245: 320, 10246: 399, 10247: 233, 10248: 454, 10249: 163, 10250: 521, 10251: 286, 10252: 312, 10253: 429, 10254: 469, 10255: 61, 10256: 63, 10257: 208, 10259: 454, 10260: 308, 10261: 287, 10262: 605, 10263: 411, 10264: 253, 10265: 94, 10266: 495, 10267: 244, 10268: 402, 10269: 80, 10270: 374, 10271: 393, 10272: 214, 10273: 518, 10274: 161, 10275: 601, 10276: 527, 10278: 318, 10279: 236, 10280: 551, 10281: 449, 10282: 447, 10283: 483, 10284: 418, 10285: 474, 10286: 38, 10287: 595, 10288: 475, 10289: 150, 10290: 71, 10291: 493, 10292: 416, 10293: 292, 10294: 45, 10295: 174, 10296: 401, 10297: 201, 10298: 71, 10299: 382, 10300: 251, 10301: 369, 10302: 246, 10303: 70, 10304: 594, 10305: 502, 10306: 587, 10307: 277, 10308: 544, 10309: 190, 10310: 619, 10311: 383, 10312: 601, 10313: 348, 10314: 524, 10315: 244, 10316: 623, 10317: 35, 10318: 372, 10319: 335, 10320: 155, 10321: 490, 10322: 512, 10323: 80, 10324: 468, 10325: 329, 10326: 223, 10327: 253, 10328: 495, 10329: 532, 10331: 437, 10332: 621, 10333: 261, 10334: 217, 10335: 117, 10336: 447, 10337: 285, 10338: 114, 10340: 343, 10341: 411, 10342: 420, 10343: 191, 10344: 211, 10345: 43, 10346: 163, 10347: 418, 10348: 305, 10349: 372, 10350: 554, 10351: 156, 10352: 143, 10353: 346, 10354: 384, 10355: 338, 10356: 301, 10357: 391, 10358: 484, 10359: 290, 10360: 620, 10361: 429, 10362: 117, 10363: 508, 10364: 48, 10365: 96, 10366: 117, 10367: 469, 10368: 183, 10369: 293, 10370: 256, 10371: 382, 10373: 605, 10374: 209, 10375: 560, 10376: 35, 10377: 215, 10378: 377, 10379: 159, 10380: 438, 10381: 317, 10382: 451, 10383: 416, 10384: 154, 10385: 62, 10386: 650, 10388: 315, 10389: 316, 10390: 603, 10391: 339, 10392: 102, 10393: 355, 10394: 239, 10395: 156, 10396: 287, 10397: 172, 10398: 629, 10399: 319, 10400: 356, 10401: 597, 10402: 159, 10403: 371, 10404: 447, 10405: 336, 10406: 174, 10407: 571, 10409: 67, 10410: 424, 10411: 285, 10412: 455, 10413: 229, 10414: 609, 10415: 164, 10416: 460, 10417: 259, 10418: 299, 10419: 509, 10420: 532, 10421: 75, 10422: 76, 10423: 111, 10424: 269, 10425: 427}\n"
     ]
    }
   ],
   "source": [
    "# La cantidad media de items que se pidió.\n",
    "\n",
    "def obtener_items_x_venta_ddbb():\n",
    "    cur = None\n",
    "    data = None\n",
    "\n",
    "    SQL = 'SELECT  DISTINCT orderNumber, orderlinenumber, quantityOrdered  FROM sales GROUP BY orderNumber,orderlinenumber ORDER BY orderNumber'\n",
    "    print('SQL:', SQL)\n",
    "\n",
    "    try:\n",
    "        cur = conn.cursor()\n",
    "        cur.execute(SQL)\n",
    "        data = cur.fetchall()\n",
    "    except Exception as err:\n",
    "        print(f\"Error: '{err}'\")\n",
    "        if conn:\n",
    "            conn.rollback()\n",
    "    finally:\n",
    "        if cur:\n",
    "            cur.close()\n",
    "\n",
    "    return data\n",
    "\n",
    "\n",
    "def cantidad_media_de_items():\n",
    "    data = obtener_items_x_venta_ddbb()\n",
    "\n",
    "    curr_order = None\n",
    "    qitems_x_venta = {}\n",
    "    suma_items_pedidos = 0\n",
    "\n",
    "    for (ordn, lordn, q) in data:\n",
    "        if ordn != curr_order:\n",
    "            curr_order = ordn\n",
    "            qitems_x_venta[ordn] = 0\n",
    "\n",
    "        qitems_x_venta[ordn] += q\n",
    "        suma_items_pedidos += q\n",
    "\n",
    "    media = round(suma_items_pedidos/len(qitems_x_venta), 2)\n",
    "\n",
    "    return media, qitems_x_venta\n",
    "\n",
    "\n",
    "media, iventas = cantidad_media_de_items()\n",
    "print('media:',media)\n",
    "print('ventas:', iventas)"
   ]
  },
  {
   "cell_type": "code",
   "execution_count": 61,
   "metadata": {},
   "outputs": [
    {
     "name": "stdout",
     "output_type": "stream",
     "text": [
      "SQL: SELECT  c.* from customers c WHERE c.creditlimit > 1000\n",
      "clientes: [(103, 'Atelier graphique', 'Carine  Schmitt', '40.32.2555', '54, rue Royale', 'Nantes', None, '44000', 'France', 1370, Decimal('21000.00')), (114, 'Australian Collectors, Co.', 'Peter Ferguson', '03 9520 4555', '636 St Kilda Road, Level 3', 'Melbourne', 'Victoria', '3004', 'Australia', 1611, Decimal('117300.00')), (119, 'La Rochelle Gifts', 'Janine  Labrune', '40.67.8555', '67, rue des Cinquante Otages', 'Nantes', None, '44000', 'France', 1370, Decimal('118200.00')), (121, 'Baane Mini Imports', 'Jonas  Bergulfsen', '07-98 9555', 'Erling Skakkes gate 78', 'Stavern', None, '4110', 'Norway', 1504, Decimal('81700.00')), (124, 'Mini Gifts Distributors Ltd.', 'Susan Nelson', '4155551450', '5677 Strong St.', 'San Rafael', 'CA', '97562', 'USA', 1165, Decimal('210500.00')), (128, 'Blauer See Auto, Co.', 'Roland Keitel', '+49 69 66 90 2555', 'Lyonerstr. 34', 'Frankfurt', None, '60528', 'Germany', 1504, Decimal('59700.00')), (129, 'Mini Wheels Co.', 'Julie Murphy', '6505555787', '5557 North Pendale Street', 'San Francisco', 'CA', '94217', 'USA', 1165, Decimal('64600.00')), (131, 'Land of Toys Inc.', 'Kwai Lee', '2125557818', '897 Long Airport Avenue', 'NYC', 'NY', '10022', 'USA', 1323, Decimal('114900.00')), (141, 'Euro+ Shopping Channel', 'Diego  Freyre', '(91) 555 94 44', 'C/ Moralzarzal, 86', 'Madrid', None, '28034', 'Spain', 1370, Decimal('227600.00')), (144, 'Volvo Model Replicas, Co', 'Christina  Berglund', '0921-12 3555', 'Berguvsvägen  8', 'Luleå', None, 'S-958 22', 'Sweden', 1504, Decimal('53100.00')), (145, 'Danish Wholesale Imports', 'Jytte  Petersen', '31 12 3555', 'Vinbæltet 34', 'Kobenhavn', None, '1734', 'Denmark', 1401, Decimal('83400.00')), (146, 'Saveley & Henriot, Co.', 'Mary  Saveley', '78.32.5555', '2, rue du Commerce', 'Lyon', None, '69004', 'France', 1337, Decimal('123900.00')), (151, 'Muscle Machine Inc', 'Jeff Young', '2125557413', '4092 Furth Circle, Suite 400', 'NYC', 'NY', '10022', 'USA', 1286, Decimal('138500.00')), (157, 'Diecast Classics Inc.', 'Kelvin Leong', '2155551555', '7586 Pompton St.', 'Allentown', 'PA', '70267', 'USA', 1216, Decimal('100600.00')), (161, 'Technics Stores Inc.', 'Juri Hashimoto', '6505556809', '9408 Furth Circle', 'Burlingame', 'CA', '94217', 'USA', 1165, Decimal('84600.00')), (166, 'Handji Gifts& Co', 'Wendy Victorino', '+65 224 1555', '106 Linden Road Sandown, 2nd Floor', 'Singapore', None, '069045', 'Singapore', 1612, Decimal('97900.00')), (167, 'Herkku Gifts', 'Veysel Oeztan', '+47 2267 3215', 'Brehmen St. 121, PR 334 Sentrum', 'Bergen', None, 'N 5804', 'Norway  ', 1504, Decimal('96800.00')), (171, 'Daedalus Designs Imports', 'Martine  Rancé', '20.16.1555', '184, chaussée de Tournai', 'Lille', None, '59000', 'France', 1370, Decimal('82900.00')), (172, 'La Corne Dabondance, Co.', 'Marie Bertrand', '(1) 42.34.2555', '265, boulevard Charonne', 'Paris', None, '75012', 'France', 1337, Decimal('84300.00')), (173, 'Cambridge Collectables Co.', 'Jerry Tseng', '6175555555', '4658 Baden Av.', 'Cambridge', 'MA', '51247', 'USA', 1188, Decimal('43400.00')), (175, 'Gift Depot Inc.', 'Julie King', '2035552570', '25593 South Bay Ln.', 'Bridgewater', 'CT', '97562', 'USA', 1323, Decimal('84300.00')), (181, 'Vitachrome Inc.', 'Michael Frick', '2125551500', '2678 Kingston Rd., Suite 101', 'NYC', 'NY', '10022', 'USA', 1286, Decimal('76400.00')), (186, 'Toys of Finland, Co.', 'Matti Karttunen', '90-224 8555', 'Keskuskatu 45', 'Helsinki', None, '21240', 'Finland', 1501, Decimal('96500.00')), (187, 'AV Stores, Co.', 'Rachel Ashworth', '(171) 555-1555', 'Fauntleroy Circus', 'Manchester', None, 'EC2 5NT', 'UK', 1501, Decimal('136800.00')), (189, 'Clover Collections, Co.', 'Dean Cassidy', '+353 1862 1555', '25 Maiden Lane, Floor No. 4', 'Dublin', None, '2', 'Ireland', 1504, Decimal('69400.00')), (198, 'Auto-Moto Classics Inc.', 'Leslie Taylor', '6175558428', '16780 Pompton St.', 'Brickhaven', 'MA', '58339', 'USA', 1216, Decimal('23000.00')), (201, 'UK Collectables, Ltd.', 'Elizabeth Devon', '(171) 555-2282', '12, Berkeley Gardens Blvd', 'Liverpool', None, 'WX1 6LT', 'UK', 1501, Decimal('92700.00')), (202, 'Canadian Gift Exchange Network', 'Yoshi  Tamuri', '(604) 555-3392', '1900 Oak St.', 'Vancouver', 'BC', 'V3F 2K1', 'Canada', 1323, Decimal('90300.00')), (204, 'Online Mini Collectables', 'Miguel Barajas', '6175557555', '7635 Spinnaker Dr.', 'Brickhaven', 'MA', '58339', 'USA', 1188, Decimal('68700.00')), (205, 'Toys4GrownUps.com', 'Julie Young', '6265557265', '78934 Hillside Dr.', 'Pasadena', 'CA', '90003', 'USA', 1166, Decimal('90700.00')), (209, 'Mini Caravy', 'Frédérique  Citeaux', '88.60.1555', '24, place Kléber', 'Strasbourg', None, '67000', 'France', 1370, Decimal('53800.00')), (216, 'Enaco Distributors', 'Eduardo  Saavedra', '(93) 203 4555', 'Rambla de Cataluña, 23', 'Barcelona', None, '08022', 'Spain', 1702, Decimal('60300.00')), (219, 'Boards & Toys Co.', 'Mary Young', '3105552373', '4097 Douglas Av.', 'Glendale', 'CA', '92561', 'USA', 1166, Decimal('11000.00')), (227, 'Heintze Collectables', 'Palle Ibsen', '86 21 3555', 'Smagsloget 45', 'Århus', None, '8200', 'Denmark', 1401, Decimal('120800.00')), (233, 'Québec Home Shopping Network', 'Jean  Fresnière', '(514) 555-8054', '43 rue St. Laurent', 'Montréal', 'Québec', 'H1J 1C3', 'Canada', 1286, Decimal('48700.00')), (239, 'Collectable Mini Designs Co.', 'Valarie Thompson', '7605558146', '361 Furth Circle', 'San Diego', 'CA', '91217', 'USA', 1166, Decimal('105000.00')), (240, 'giftsbymail.co.uk', 'Helen  Bennett', '(198) 555-8888', 'Garden House, Crowther Way 23', 'Cowes', 'Isle of Wight', 'PO31 7PJ', 'UK', 1501, Decimal('93900.00')), (242, 'Alpha Cognac', 'Annette  Roulet', '61.77.6555', '1 rue Alsace-Lorraine', 'Toulouse', None, '31000', 'France', 1370, Decimal('61100.00')), (249, 'Amica Models & Co.', 'Paolo  Accorti', '011-4988555', 'Via Monte Bianco 34', 'Torino', None, '10100', 'Italy', 1401, Decimal('113000.00')), (250, 'Lyon Souveniers', 'Daniel Da Silva', '+33 1 46 62 7555', '27 rue du Colonel Pierre Avia', 'Paris', None, '75508', 'France', 1337, Decimal('68100.00')), (256, 'Auto Associés & Cie.', 'Daniel  Tonini', '30.59.8555', '67, avenue de lEurope', 'Versailles', None, '78000', 'France', 1370, Decimal('77900.00')), (259, 'Toms Spezialitäten, Ltd', 'Henriette  Pfalzheim', '0221-5554327', 'Mehrheimerstr. 369', 'Köln', None, '50739', 'Germany', 1504, Decimal('120400.00')), (260, 'Royal Canadian Collectables, Ltd.', 'Elizabeth  Lincoln', '(604) 555-4555', '23 Tsawassen Blvd.', 'Tsawassen', 'BC', 'T2F 8M4', 'Canada', 1323, Decimal('89600.00')), (276, 'Annas Decorations, Ltd', 'Anna OHara', '02 9936 8555', '201 Miller Street, Level 15', 'North Sydney', 'NSW', '2060', 'Australia', 1611, Decimal('107800.00')), (278, 'Rovelli Gifts', 'Giovanni  Rovelli', '035-640555', 'Via Ludovico il Moro 22', 'Bergamo', None, '24100', 'Italy', 1401, Decimal('119600.00')), (282, 'Souveniers And Things Co.', 'Adrian Huxley', '+61 2 9495 8555', 'Monitor Money Building, 815 Pacific Hwy', 'Chatswood', 'NSW', '2067', 'Australia', 1611, Decimal('93300.00')), (286, 'Martas Replicas Co.', 'Marta Hernandez', '6175558555', '39323 Spinnaker Dr.', 'Cambridge', 'MA', '51247', 'USA', 1216, Decimal('123700.00')), (298, 'Vida Sport, Ltd', 'Mihael Holz', '0897-034555', 'Grenzacherweg 237', 'Genève', None, '1203', 'Switzerland', 1702, Decimal('141300.00')), (299, 'Norway Gifts By Mail, Co.', 'Jan Klaeboe', '+47 2212 1555', 'Drammensveien 126A, PB 211 Sentrum', 'Oslo', None, 'N 0106', 'Norway  ', 1504, Decimal('95100.00')), (311, 'Oulu Toy Supplies, Inc.', 'Pirkko Koskitalo', '981-443655', 'Torikatu 38', 'Oulu', None, '90110', 'Finland', 1501, Decimal('90500.00')), (314, 'Petit Auto', 'Catherine  Dewey', '(02) 5554 67', 'Rue Joseph-Bens 532', 'Bruxelles', None, 'B-1180', 'Belgium', 1401, Decimal('79900.00')), (319, 'Mini Classics', 'Steve Frick', '9145554562', '3758 North Pendale Street', 'White Plains', 'NY', '24067', 'USA', 1323, Decimal('102700.00')), (320, 'Mini Creations Ltd.', 'Wing Huang', '5085559555', '4575 Hillside Dr.', 'New Bedford', 'MA', '50553', 'USA', 1188, Decimal('94500.00')), (321, 'Corporate Gift Ideas Co.', 'Julie Brown', '6505551386', '7734 Strong St.', 'San Francisco', 'CA', '94217', 'USA', 1165, Decimal('105000.00')), (323, 'Down Under Souveniers, Inc', 'Mike Graham', '+64 9 312 5555', '162-164 Grafton Road, Level 2', 'Auckland  ', None, None, 'New Zealand', 1612, Decimal('88000.00')), (324, 'Stylish Desk Decors, Co.', 'Ann  Brown', '(171) 555-0297', '35 King George', 'London', None, 'WX3 6FW', 'UK', 1501, Decimal('77000.00')), (328, 'Tekni Collectables Inc.', 'William Brown', '2015559350', '7476 Moss Rd.', 'Newark', 'NJ', '94019', 'USA', 1323, Decimal('43000.00')), (333, 'Australian Gift Network, Co', 'Ben Calaghan', '61-7-3844-6555', '31 Duncan St. West End', 'South Brisbane', 'Queensland', '4101', 'Australia', 1611, Decimal('51600.00')), (334, 'Suominen Souveniers', 'Kalle Suominen', '+358 9 8045 555', 'Software Engineering Center, SEC Oy', 'Espoo', None, 'FIN-02271', 'Finland', 1501, Decimal('98800.00')), (339, 'Classic Gift Ideas, Inc', 'Francisca Cervantes', '2155554695', '782 First Street', 'Philadelphia', 'PA', '71270', 'USA', 1188, Decimal('81100.00')), (344, 'CAF Imports', 'Jesus Fernandez', '+34 913 728 555', 'Merchants House, 27-30 Merchants Quay', 'Madrid', None, '28023', 'Spain', 1702, Decimal('59600.00')), (347, 'Men R US Retailers, Ltd.', 'Brian Chandler', '2155554369', '6047 Douglas Av.', 'Los Angeles', 'CA', '91003', 'USA', 1166, Decimal('57700.00')), (350, 'Marseille Mini Autos', 'Laurence  Lebihan', '91.24.4555', '12, rue des Bouchers', 'Marseille', None, '13008', 'France', 1337, Decimal('65000.00')), (353, 'Reims Collectables', 'Paul  Henriot', '26.47.1555', '59 rue de lAbbaye', 'Reims', None, '51100', 'France', 1337, Decimal('81100.00')), (357, 'GiftsForHim.com', 'Wales MacKinlay', '64-9-3763555', '199 Great North Road', 'Auckland', None, None, 'New Zealand', 1612, Decimal('77700.00')), (362, 'Gifts4AllAges.com', 'Juri Yoshido', '6175559555', '8616 Spinnaker Dr.', 'Boston', 'MA', '51003', 'USA', 1216, Decimal('41900.00')), (363, 'Online Diecast Creations Co.', 'Dorothy Young', '6035558647', '2304 Long Airport Avenue', 'Nashua', 'NH', '62005', 'USA', 1216, Decimal('114200.00')), (379, 'Collectables For Less Inc.', 'Allen Nelson', '6175558555', '7825 Douglas Av.', 'Brickhaven', 'MA', '58339', 'USA', 1188, Decimal('70700.00')), (381, 'Royale Belge', 'Pascale  Cartrain', '(071) 23 67 2555', 'Boulevard Tirou, 255', 'Charleroi', None, 'B-6000', 'Belgium', 1401, Decimal('23500.00')), (382, 'Salzburg Collectables', 'Georg  Pipps', '6562-9555', 'Geislweg 14', 'Salzburg', None, '5020', 'Austria', 1401, Decimal('71700.00')), (386, 'Lordine Souveniers', 'Maurizio  Moroni', '0522-556555', 'Strada Provinciale 124', 'Reggio Emilia', None, '42100', 'Italy', 1401, Decimal('121400.00')), (406, 'Auto Canal+ Petit', 'Dominique Perrier', '(1) 47.55.6555', '25, rue Lauriston', 'Paris', None, '75016', 'France', 1337, Decimal('95000.00')), (412, 'Extreme Desk Decorations, Ltd', 'Sarah McRoy', '04 499 9555', '101 Lambton Quay, Level 11', 'Wellington', None, None, 'New Zealand', 1612, Decimal('86800.00')), (415, 'Bavarian Collectables Imports, Co.', 'Michael Donnermeyer', ' +49 89 61 08 9555', 'Hansastr. 15', 'Munich', None, '80686', 'Germany', 1504, Decimal('77000.00')), (424, 'Classic Legends Inc.', 'Maria Hernandez', '2125558493', '5905 Pompton St., Suite 750', 'NYC', 'NY', '10022', 'USA', 1286, Decimal('67500.00')), (447, 'Gift Ideas Corp.', 'Dan Lewis', '2035554407', '2440 Pompton St.', 'Glendale', 'CT', '97561', 'USA', 1323, Decimal('49700.00')), (448, 'Scandinavian Gift Ideas', 'Martha Larsson', '0695-34 6555', 'Åkergatan 24', 'Bräcke', None, 'S-844 67', 'Sweden', 1504, Decimal('116400.00')), (450, 'The Sharp Gifts Warehouse', 'Sue Frick', '4085553659', '3086 Ingle Ln.', 'San Jose', 'CA', '94217', 'USA', 1165, Decimal('77600.00')), (452, 'Mini Auto Werke', 'Roland  Mendel', '7675-3555', 'Kirchgasse 6', 'Graz', None, '8010', 'Austria', 1401, Decimal('45300.00')), (455, 'Super Scale Inc.', 'Leslie Murphy', '2035559545', '567 North Pendale Street', 'New Haven', 'CT', '97823', 'USA', 1286, Decimal('95400.00')), (456, 'Microscale Inc.', 'Yu Choi', '2125551957', '5290 North Pendale Street, Suite 200', 'NYC', 'NY', '10022', 'USA', 1286, Decimal('39800.00')), (458, 'Corrida Auto Replicas, Ltd', 'Martín  Sommer', '(91) 555 22 82', 'C/ Araquil, 67', 'Madrid', None, '28023', 'Spain', 1702, Decimal('104600.00')), (462, 'FunGiftIdeas.com', 'Violeta Benitez', '5085552555', '1785 First Street', 'New Bedford', 'MA', '50553', 'USA', 1216, Decimal('85800.00')), (471, 'Australian Collectables, Ltd', 'Sean Clenahan', '61-9-3844-6555', '7 Allen Street', 'Glen Waverly', 'Victoria', '3150', 'Australia', 1611, Decimal('60300.00')), (473, 'Frau da Collezione', 'Franco Ricotti', '+39 022515555', '20093 Cologno Monzese, Alessandro Volta 16', 'Milan', None, None, 'Italy', 1401, Decimal('34800.00')), (475, 'West Coast Collectables Co.', 'Steve Thompson', '3105553722', '3675 Furth Circle', 'Burbank', 'CA', '94019', 'USA', 1166, Decimal('55400.00')), (484, 'Iberia Gift Imports, Corp.', 'José Pedro  Roel', '(95) 555 82 82', 'C/ Romero, 33', 'Sevilla', None, '41101', 'Spain', 1702, Decimal('65700.00')), (486, 'Motor Mint Distributors Inc.', 'Rosa Salazar', '2155559857', '11328 Douglas Av.', 'Philadelphia', 'PA', '71270', 'USA', 1323, Decimal('72600.00')), (487, 'Signal Collectibles Ltd.', 'Sue Taylor', '4155554312', '2793 Furth Circle', 'Brisbane', 'CA', '94217', 'USA', 1165, Decimal('60300.00')), (489, 'Double Decker Gift Stores, Ltd', 'Thomas  Smith', '(171) 555-7555', '120 Hanover Sq.', 'London', None, 'WA1 1DP', 'UK', 1501, Decimal('43300.00')), (495, 'Diecast Collectables', 'Valarie Franco', '6175552555', '6251 Ingle Ln.', 'Boston', 'MA', '51003', 'USA', 1188, Decimal('85100.00')), (496, 'Kellys Gift Shop', 'Tony Snowden', '+64 9 5555500', 'Arenales 1938 3A', 'Auckland  ', None, None, 'New Zealand', 1612, Decimal('110000.00')), (112, 'Signal Gift Stores', 'Jean King', '7025551838', '8489 Strong St.', 'Las Vegas', 'NV', '10005', 'USA', 1166, Decimal('71800.00'))]\n",
      "media: 84246.23655913978\n",
      "varianza: 1169193817.204301\n"
     ]
    }
   ],
   "source": [
    "# Aquellos clientes que tienen un crédito superior a 1000. \n",
    "\n",
    "import statistics as st\n",
    "\n",
    "def clientes_credito_mayor_a(valor, esMayor):\n",
    "    cur = None\n",
    "    data = None\n",
    "\n",
    "    simbolo = '>'\n",
    "    if not esMayor: simbolo = '<='\n",
    "\n",
    "    SQL = 'SELECT  c.* from customers c WHERE c.creditlimit {0} {1}'.format(\n",
    "        simbolo, valor)\n",
    "    print('SQL:', SQL)\n",
    "\n",
    "    try:\n",
    "        cur = conn.cursor()\n",
    "        cur.execute(SQL)\n",
    "        data = cur.fetchall()\n",
    "    except Exception as err:\n",
    "        print(f\"Error: '{err}'\")\n",
    "        if conn:\n",
    "            conn.rollback()\n",
    "    finally:\n",
    "        if cur:\n",
    "            cur.close()\n",
    "\n",
    "    return data\n",
    "\n",
    "\n",
    "def getClientesMediaVarianza(valor, esMayor=True):\n",
    "    clientes = clientes_credito_mayor_a(valor, esMayor)\n",
    "\n",
    "    lcredits = list(map(lambda aRow: float(aRow[-1]), clientes))\n",
    "\n",
    "    return clientes, st.mean(lcredits), st.variance(lcredits)\n",
    "\n",
    "\n",
    "clientes, media, varianza = getClientesMediaVarianza(1000)\n",
    "print('clientes:', clientes)\n",
    "print('media:', media)\n",
    "print('varianza:', varianza)"
   ]
  },
  {
   "cell_type": "code",
   "execution_count": 62,
   "metadata": {},
   "outputs": [
    {
     "name": "stdout",
     "output_type": "stream",
     "text": [
      "SQL: SELECT  c.* from customers c WHERE c.creditlimit <= 1000\n",
      "clientes: [(125, 'Havel & Zbyszek Co', 'Zbyszek  Piestrzeniewicz', '(26) 642-7555', 'ul. Filtrowa 68', 'Warszawa', None, '01-012', 'Poland', None, Decimal('0.00')), (168, 'American Souvenirs Inc', 'Keith Franco', '2035557845', '149 Spinnaker Dr., Suite 101', 'New Haven', 'CT', '97823', 'USA', 1286, Decimal('0.00')), (169, 'Porto Imports Co.', 'Isabel  de Castro', '(1) 356-5555', 'Estrada da saúde n. 58', 'Lisboa', None, '1756', 'Portugal', None, Decimal('0.00')), (206, 'Asian Shopping Network, Co', 'Brydey Walker', '+612 9411 1555', 'Suntec Tower Three, 8 Temasek', 'Singapore', None, '038988', 'Singapore', None, Decimal('0.00')), (223, 'Natürlich Autos', 'Horst  Kloss', '0372-555188', 'Taucherstraße 10', 'Cunewalde', None, '01307', 'Germany', None, Decimal('0.00')), (237, 'ANG Resellers', 'Alejandra  Camino', '(91) 745 6555', 'Gran Vía, 1', 'Madrid', None, '28001', 'Spain', None, Decimal('0.00')), (247, 'Messner Shopping Network', 'Renate  Messner', '069-0555984', 'Magazinweg 7', 'Frankfurt', None, '60528', 'Germany', None, Decimal('0.00')), (273, 'Franken Gifts, Co', 'Peter  Franken', '089-0877555', 'Berliner Platz 43', 'München', None, '80805', 'Germany', None, Decimal('0.00')), (293, 'BG&E Collectables', 'Ed Harrison', '+41 26 425 50 01', 'Rte des Arsenaux 41 ', 'Fribourg', None, '1700', 'Switzerland', None, Decimal('0.00')), (303, 'Schuyler Imports', 'Bradley Schuyler', '+31 20 491 9555', 'Kingsfordweg 151', 'Amsterdam', None, '1043 GR', 'Netherlands', None, Decimal('0.00')), (307, 'Der Hund Imports', 'Mel Andersen', '030-0074555', 'Obere Str. 57', 'Berlin', None, '12209', 'Germany', None, Decimal('0.00')), (335, 'Cramer Spezialitäten, Ltd', 'Philip  Cramer', '0555-09555', 'Maubelstr. 90', 'Brandenburg', None, '14776', 'Germany', None, Decimal('0.00')), (348, 'Asian Treasures, Inc.', 'Patricia  McKenna', '2967 555', '8 Johnstown Road', 'Cork', 'Co. Cork', None, 'Ireland', None, Decimal('0.00')), (356, 'SAR Distributors, Co', 'Armand Kuger', '+27 21 550 3555', '1250 Pretorius Street', 'Hatfield', 'Pretoria', '0028', 'South Africa', None, Decimal('0.00')), (361, 'Kommission Auto', 'Karin Josephs', '0251-555259', 'Luisenstr. 48', 'Münster', None, '44087', 'Germany', None, Decimal('0.00')), (369, 'Lisboa Souveniers, Inc', 'Lino  Rodriguez', '(1) 354-2555', 'Jardim das rosas n. 32', 'Lisboa', None, '1675', 'Portugal', None, Decimal('0.00')), (376, 'Precious Collectables', 'Braun Urs', '0452-076555', 'Hauptstr. 29', 'Bern', None, '3012', 'Switzerland', 1702, Decimal('0.00')), (409, 'Stuttgart Collectable Exchange', 'Rita  Müller', '0711-555361', 'Adenauerallee 900', 'Stuttgart', None, '70563', 'Germany', None, Decimal('0.00')), (443, 'Feuer Online Stores, Inc', 'Alexander  Feuer', '0342-555176', 'Heerstr. 22', 'Leipzig', None, '04179', 'Germany', None, Decimal('0.00')), (459, 'Warburg Exchange', 'Sven  Ottlieb', '0241-039123', 'Walserweg 21', 'Aachen', None, '52066', 'Germany', None, Decimal('0.00')), (465, 'Anton Designs, Ltd.', 'Carmen Anton', '+34 913 728555', 'c/ Gobelas, 19-1 Urb. La Florida', 'Madrid', None, '28023', 'Spain', None, Decimal('0.00')), (477, 'Mit Vergnügen & Co.', 'Hanna  Moos', '0621-08555', 'Forsterstr. 57', 'Mannheim', None, '68306', 'Germany', None, Decimal('0.00')), (480, 'Kremlin Collectables, Co.', 'Alexander  Semenov', '+7 812 293 0521', '2 Pobedy Square', 'Saint Petersburg', None, '196143', 'Russia', None, Decimal('0.00')), (481, 'Raanan Stores, Inc', 'Raanan Altagar,G M', '+ 972 9 959 8555', '3 Hagalim Blv.', 'Herzlia', None, '47625', 'Israel', None, Decimal('0.00'))]\n",
      "media: 0.0\n",
      "varianza: 0.0\n"
     ]
    }
   ],
   "source": [
    "# Aquellos clientes que tienen un crédito inferior o igual a 1000. \n",
    "\n",
    "clientes, media, varianza = getClientesMediaVarianza(1000, esMayor=False)\n",
    "print('clientes:', clientes)\n",
    "print('media:', media)\n",
    "print('varianza:', varianza)"
   ]
  },
  {
   "cell_type": "code",
   "execution_count": 63,
   "metadata": {},
   "outputs": [],
   "source": [
    "# Cerramos conexión global\n",
    "if conn: conn.close()"
   ]
  }
 ],
 "metadata": {
  "kernelspec": {
   "display_name": "Python 3.8 - AzureML",
   "language": "python",
   "name": "python38-azureml"
  },
  "language_info": {
   "codemirror_mode": {
    "name": "ipython",
    "version": 3
   },
   "file_extension": ".py",
   "mimetype": "text/x-python",
   "name": "python",
   "nbconvert_exporter": "python",
   "pygments_lexer": "ipython3",
   "version": "3.10.11"
  }
 },
 "nbformat": 4,
 "nbformat_minor": 2
}
