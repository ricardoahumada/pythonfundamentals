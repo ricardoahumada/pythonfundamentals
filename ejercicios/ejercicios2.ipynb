{
 "cells": [
  {
   "cell_type": "markdown",
   "metadata": {},
   "source": [
    "## Ejercicios 2"
   ]
  },
  {
   "cell_type": "code",
   "execution_count": 13,
   "metadata": {},
   "outputs": [
    {
     "name": "stdout",
     "output_type": "stream",
     "text": [
      "Debe ser un número!\n"
     ]
    }
   ],
   "source": [
    "# Número en lista\n",
    "list1 = [1,2,3,4,5]\n",
    "try:\n",
    "    val = int(input(\"num:\"))\n",
    "    print('Está:',val in list1)\n",
    "except:\n",
    "    print('Debe ser un número!')"
   ]
  },
  {
   "cell_type": "code",
   "execution_count": null,
   "metadata": {},
   "outputs": [],
   "source": [
    "# Suledo medio\n",
    "try:\n",
    "    horas = int(input('Horas:'))\n",
    "    pph = float(input('pph:'))\n",
    "    sa = horas * pph\n",
    "    smm = sa / 12\n",
    "    print('Sueldo medio mensual:', smm)\n",
    "except:\n",
    "    print('Deben ser números!')"
   ]
  },
  {
   "cell_type": "code",
   "execution_count": 16,
   "metadata": {},
   "outputs": [
    {
     "name": "stdout",
     "output_type": "stream",
     "text": [
      "El mayor es: o\n"
     ]
    }
   ],
   "source": [
    "# Número mayor\n",
    "txtlista = input('lista separada por \",\":')\n",
    "lista = txtlista.split(',')\n",
    "print('El mayor es:',max(lista))"
   ]
  },
  {
   "cell_type": "code",
   "execution_count": null,
   "metadata": {},
   "outputs": [],
   "source": [
    "# Num valores únicos\n",
    "lista = [1, 2, 3, 4, 5, 4, 3, 2, 1]\n",
    "s1 = set(lista)\n",
    "print('Número de elementos diferentes:',len(s1))"
   ]
  },
  {
   "cell_type": "code",
   "execution_count": null,
   "metadata": {},
   "outputs": [],
   "source": [
    "# Valor 2º posicion\n",
    "unDict = {'primero':1, 'segundo': 2, 'tercero':3}\n",
    "claves = list(unDict.keys());\n",
    "segundo = unDict.get(claves[1])\n",
    "print('El segundo:',segundo)"
   ]
  }
 ],
 "metadata": {
  "kernelspec": {
   "display_name": "Python 3 (ipykernel)",
   "language": "python",
   "name": "python3"
  },
  "language_info": {
   "codemirror_mode": {
    "name": "ipython",
    "version": 3
   },
   "file_extension": ".py",
   "mimetype": "text/x-python",
   "name": "python",
   "nbconvert_exporter": "python",
   "pygments_lexer": "ipython3",
   "version": "3.10.11"
  }
 },
 "nbformat": 4,
 "nbformat_minor": 2
}
