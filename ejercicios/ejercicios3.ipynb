{
 "cells": [
  {
   "cell_type": "markdown",
   "metadata": {},
   "source": [
    "## Ejercicios 3"
   ]
  },
  {
   "cell_type": "code",
   "execution_count": 2,
   "metadata": {},
   "outputs": [
    {
     "data": {
      "text/plain": [
       "{'Juan': 6, 'Ana': 5, 'Pedro': 9, 'Luisa': 10}"
      ]
     },
     "execution_count": 2,
     "metadata": {},
     "output_type": "execute_result"
    }
   ],
   "source": [
    "# Dada una lista de nombres de alumnos, y otra con las notas cada uno, genera un diccionario que indique para cada alumno sus notas.\n",
    "\n",
    "alumnos = ['Juan', 'Ana', 'Pedro', 'Luisa']\n",
    "notas = [6, 5, 9 , 10]\n",
    "\n",
    "comb = list(zip(alumnos, notas))\n",
    "dict_alumnos = dict(comb)\n",
    "dict_alumnos"
   ]
  },
  {
   "cell_type": "code",
   "execution_count": null,
   "metadata": {},
   "outputs": [
    {
     "data": {
      "text/plain": [
       "['Pedro', 'Luisa', 'Juan', 'Ana']"
      ]
     },
     "execution_count": 5,
     "metadata": {},
     "output_type": "execute_result"
    }
   ],
   "source": [
    "# Genera una lista de alumnos a partir del diccionario anterior ordenado por notas descendents. Usar sorted-lambda (https://docs.python.org/3/howto/sorting.html)\n",
    "# funcx\n",
    "\n",
    "alumnos_ord = sorted(dict_alumnos, key=lambda s: s[2], reverse=True)\n",
    "alumnos_ord"
   ]
  }
 ],
 "metadata": {
  "kernelspec": {
   "display_name": "Python 3 (ipykernel)",
   "language": "python",
   "name": "python3"
  }
 },
 "nbformat": 4,
 "nbformat_minor": 2
}
