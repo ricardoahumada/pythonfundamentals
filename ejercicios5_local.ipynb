{
 "cells": [
  {
   "cell_type": "markdown",
   "metadata": {},
   "source": [
    "## Ejercicios 5"
   ]
  },
  {
   "cell_type": "code",
   "execution_count": 24,
   "metadata": {},
   "outputs": [
    {
     "name": "stdout",
     "output_type": "stream",
     "text": [
      "True\n",
      "True\n"
     ]
    }
   ],
   "source": [
    "# - Implementa un función que verifique si una palabra dada es un palíndromo (se lee igual adelante o atrás).\n",
    "\n",
    "def esPalindromo(word):\n",
    "    isPal = word == word[::-1]\n",
    "    return isPal\n",
    "\n",
    "\n",
    "def esPalindromo2(word):\n",
    "    reversedW =''.join(reversed(list(word)))\n",
    "    isPal = word == reversedW\n",
    "    return isPal\n",
    "\n",
    "\n",
    "palabra = 'arañara'\n",
    "\n",
    "print(esPalindromo(palabra))\n",
    "print(esPalindromo2(palabra))\n"
   ]
  },
  {
   "cell_type": "code",
   "execution_count": 3,
   "metadata": {},
   "outputs": [
    {
     "name": "stdout",
     "output_type": "stream",
     "text": [
      "(1, 4, 7, 10, 13, 16, 19, 22, 25, 28, 31, 34, 37, 40, 43, 46, 49, 52, 55, 58, 61, 64, 67, 70, 73, 76, 79, 82, 85, 88, 91, 94, 97)\n"
     ]
    },
    {
     "data": {
      "text/plain": [
       "16"
      ]
     },
     "execution_count": 3,
     "metadata": {},
     "output_type": "execute_result"
    }
   ],
   "source": [
    "# - Implementa un función que reciba una serie de números como parámetro y determine cuantos impares hay en ella.\n",
    "\n",
    "def getImpares(*serie):\n",
    "    print(serie)\n",
    "    num_imp = 0\n",
    "    for aNum in serie:\n",
    "        if not aNum % 2:\n",
    "            num_imp += 1\n",
    "    return num_imp\n",
    "\n",
    "\n",
    "nums = list(range(1, 100, 3))\n",
    "\n",
    "impares = getImpares(*nums)\n",
    "impares"
   ]
  },
  {
   "cell_type": "code",
   "execution_count": 4,
   "metadata": {},
   "outputs": [
    {
     "data": {
      "text/plain": [
       "[{'nombre': 'aNa', 'direccion': 'Calle X', 'edad': 22},\n",
       " {'nombre': 'luIs', 'direccion': 'Calle Y', 'edad': 24},\n",
       " {'nombre': 'juAna', 'direccion': 'Calle Z', 'edad': 43},\n",
       " {'nombre': 'metEoro', 'direccion': 'Calle A', 'edad': 16}]"
      ]
     },
     "execution_count": 4,
     "metadata": {},
     "output_type": "execute_result"
    }
   ],
   "source": [
    "# - Dada una lista de alumnos, donde cada alumno es un dictionario con \"nombre, direccion y edad\"; implementa una solución basada en funciones que transforme la letra intermedia (o más cercana al centro) del nombre de cada alumno en mayúscula y el resto en minúsculas.\n",
    "\n",
    "def transformaNombres(students):\n",
    "    for un_alumno in students:\n",
    "        nombre_mod = un_alumno['nombre'].lower()\n",
    "        l_nombre_mod = list(nombre_mod)\n",
    "        medio = len(l_nombre_mod)//2\n",
    "        l_nombre_mod[medio] = l_nombre_mod[medio].upper()\n",
    "        un_alumno['nombre'] = ''.join(l_nombre_mod)\n",
    "\n",
    "    return students\n",
    "\n",
    "\n",
    "alumnos = [\n",
    "    {'nombre': 'Ana', 'direccion': 'Calle X', 'edad': 22},\n",
    "    {'nombre': 'Luis', 'direccion': 'Calle Y', 'edad': 24},\n",
    "    {'nombre': 'Juana', 'direccion': 'Calle Z', 'edad': 43},\n",
    "    {'nombre': 'Meteoro', 'direccion': 'Calle A', 'edad': 16},\n",
    "]\n",
    "\n",
    "transformaNombres(alumnos)"
   ]
  },
  {
   "cell_type": "code",
   "execution_count": 5,
   "metadata": {},
   "outputs": [
    {
     "data": {
      "text/plain": [
       "([('aNa', 'Calle X'),\n",
       "  ('luIs', 'Calle Y'),\n",
       "  ('juAna', 'Calle Z'),\n",
       "  ('metEoro', 'Calle A')],\n",
       " [('aNa', 22), ('luIs', 24), ('juAna', 43), ('metEoro', 16)])"
      ]
     },
     "execution_count": 5,
     "metadata": {},
     "output_type": "execute_result"
    }
   ],
   "source": [
    "# - Dada una lista de alumnos anterior, donde cada alumno es un dictionario con nombre, direccion y edad;\n",
    "# implementa una solución basada en funciones que transforme la lista en dos listas de tuplas del tipo (nombre, direccion), (nombre, edad).\n",
    "\n",
    "def transformaEnTuplas(students):\n",
    "\n",
    "    nueva_lista1 = []\n",
    "    nueva_lista2 = []\n",
    "\n",
    "    for un_alumno in students:\n",
    "        nueva_lista1.append((un_alumno['nombre'], un_alumno['direccion']))\n",
    "        nueva_lista2.append((un_alumno['nombre'], un_alumno['edad']))\n",
    "\n",
    "    return nueva_lista1, nueva_lista2\n",
    "\n",
    "\n",
    "transformaEnTuplas(alumnos)"
   ]
  },
  {
   "cell_type": "code",
   "execution_count": 28,
   "metadata": {},
   "outputs": [
    {
     "data": {
      "text/plain": [
       "[1, 8, 27, 64, 125, 216, 343, 512]"
      ]
     },
     "execution_count": 28,
     "metadata": {},
     "output_type": "execute_result"
    }
   ],
   "source": [
    "# - Escribe una expresión lambda que eleve al cubo todos los números de la lista siguiente: [1,2,3,4,5,6,7,8], usando la función map\n",
    "\n",
    "lista = [1, 2, 3, 4, 5, 6, 7, 8]\n",
    "\n",
    "result = map(lambda x: x**3, lista)\n",
    "\n",
    "list(result)"
   ]
  },
  {
   "cell_type": "code",
   "execution_count": null,
   "metadata": {},
   "outputs": [],
   "source": [
    "# - Refactoriza el ejercicio de notas de alumnos para que se base en funciones.\n"
   ]
  }
 ],
 "metadata": {
  "kernelspec": {
   "display_name": "Python 3",
   "language": "python",
   "name": "python3"
  },
  "language_info": {
   "codemirror_mode": {
    "name": "ipython",
    "version": 3
   },
   "file_extension": ".py",
   "mimetype": "text/x-python",
   "name": "python",
   "nbconvert_exporter": "python",
   "pygments_lexer": "ipython3",
   "version": "3.12.4"
  }
 },
 "nbformat": 4,
 "nbformat_minor": 2
}
