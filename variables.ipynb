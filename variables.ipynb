{
 "cells": [
  {
   "cell_type": "code",
   "execution_count": 3,
   "metadata": {},
   "outputs": [
    {
     "name": "stdout",
     "output_type": "stream",
     "text": [
      "Hola mundo !!\n",
      "Hola de nuevo\n"
     ]
    }
   ],
   "source": [
    "print(\"Hola mundo !!\")\n",
    "print(\"Hola de nuevo\")"
   ]
  },
  {
   "cell_type": "code",
   "execution_count": 9,
   "metadata": {},
   "outputs": [
    {
     "name": "stdout",
     "output_type": "stream",
     "text": [
      "3\n",
      "Esto es un texto\n"
     ]
    }
   ],
   "source": [
    "unNumero = 3\n",
    "otroNumero = 2\n",
    "unTexto = 'Esto es un texto'\n",
    "\n",
    "print(unNumero)\n",
    "print(unTexto)"
   ]
  },
  {
   "cell_type": "code",
   "execution_count": 10,
   "metadata": {},
   "outputs": [
    {
     "data": {
      "text/plain": [
       "int"
      ]
     },
     "execution_count": 10,
     "metadata": {},
     "output_type": "execute_result"
    }
   ],
   "source": [
    "type(unNumero)"
   ]
  },
  {
   "cell_type": "code",
   "execution_count": 13,
   "metadata": {},
   "outputs": [
    {
     "name": "stdout",
     "output_type": "stream",
     "text": [
      "5\n"
     ]
    }
   ],
   "source": [
    "resultado = unNumero + otroNumero\n",
    "print(resultado)"
   ]
  },
  {
   "cell_type": "code",
   "execution_count": 15,
   "metadata": {},
   "outputs": [
    {
     "ename": "TypeError",
     "evalue": "unsupported operand type(s) for +: 'int' and 'str'",
     "output_type": "error",
     "traceback": [
      "\u001b[0;31m---------------------------------------------------------------------------\u001b[0m",
      "\u001b[0;31mTypeError\u001b[0m                                 Traceback (most recent call last)",
      "Cell \u001b[0;32mIn[15], line 1\u001b[0m\n\u001b[0;32m----> 1\u001b[0m resultado \u001b[38;5;241m=\u001b[39m \u001b[43munNumero\u001b[49m\u001b[43m \u001b[49m\u001b[38;5;241;43m+\u001b[39;49m\u001b[43m \u001b[49m\u001b[43munTexto\u001b[49m\n\u001b[1;32m      2\u001b[0m resultado\n",
      "\u001b[0;31mTypeError\u001b[0m: unsupported operand type(s) for +: 'int' and 'str'"
     ]
    }
   ],
   "source": [
    "resultado = unNumero + unTexto\n",
    "resultado"
   ]
  },
  {
   "cell_type": "code",
   "execution_count": 17,
   "metadata": {},
   "outputs": [
    {
     "data": {
      "text/plain": [
       "bool"
      ]
     },
     "execution_count": 17,
     "metadata": {},
     "output_type": "execute_result"
    }
   ],
   "source": [
    "unBooleano = True\n",
    "type(unBooleano)"
   ]
  },
  {
   "cell_type": "code",
   "execution_count": 20,
   "metadata": {},
   "outputs": [
    {
     "name": "stdout",
     "output_type": "stream",
     "text": [
      "(3+2j)\n"
     ]
    },
    {
     "data": {
      "text/plain": [
       "complex"
      ]
     },
     "execution_count": 20,
     "metadata": {},
     "output_type": "execute_result"
    }
   ],
   "source": [
    "comp = 3 + 2j\n",
    "print(comp)\n",
    "type(comp)\n"
   ]
  },
  {
   "cell_type": "code",
   "execution_count": 22,
   "metadata": {},
   "outputs": [
    {
     "data": {
      "text/plain": [
       "float"
      ]
     },
     "execution_count": 22,
     "metadata": {},
     "output_type": "execute_result"
    }
   ],
   "source": [
    "unFloat = 2.4\n",
    "type(unFloat)"
   ]
  },
  {
   "cell_type": "code",
   "execution_count": 24,
   "metadata": {},
   "outputs": [
    {
     "data": {
      "text/plain": [
       "str"
      ]
     },
     "execution_count": 24,
     "metadata": {},
     "output_type": "execute_result"
    }
   ],
   "source": [
    "unFloat = \"Esto es un texto\"\n",
    "type(unFloat)"
   ]
  },
  {
   "cell_type": "code",
   "execution_count": 25,
   "metadata": {},
   "outputs": [
    {
     "name": "stdout",
     "output_type": "stream",
     "text": [
      "Valor de unFloat: Esto es un texto\n"
     ]
    }
   ],
   "source": [
    "print(\"Valor de unFloat:\", unFloat)"
   ]
  },
  {
   "cell_type": "code",
   "execution_count": 31,
   "metadata": {},
   "outputs": [
    {
     "name": "stdout",
     "output_type": "stream",
     "text": [
      "Lo que el usuario escribió: 2341324\n"
     ]
    },
    {
     "data": {
      "text/plain": [
       "str"
      ]
     },
     "execution_count": 31,
     "metadata": {},
     "output_type": "execute_result"
    }
   ],
   "source": [
    "entrada = input(\"Escribe algo\")\n",
    "print(\"Lo que el usuario escribió:\", entrada)\n",
    "type(entrada)"
   ]
  },
  {
   "cell_type": "code",
   "execution_count": 33,
   "metadata": {},
   "outputs": [
    {
     "ename": "ValueError",
     "evalue": "invalid literal for int() with base 10: 'hola'",
     "output_type": "error",
     "traceback": [
      "\u001b[0;31m---------------------------------------------------------------------------\u001b[0m",
      "\u001b[0;31mValueError\u001b[0m                                Traceback (most recent call last)",
      "Cell \u001b[0;32mIn[33], line 1\u001b[0m\n\u001b[0;32m----> 1\u001b[0m entrada \u001b[38;5;241m=\u001b[39m \u001b[38;5;28;43mint\u001b[39;49m\u001b[43m(\u001b[49m\u001b[43m \u001b[49m\u001b[38;5;28;43minput\u001b[39;49m\u001b[43m(\u001b[49m\u001b[38;5;124;43m\"\u001b[39;49m\u001b[38;5;124;43mEscribe un numero:\u001b[39;49m\u001b[38;5;124;43m\"\u001b[39;49m\u001b[43m)\u001b[49m\u001b[43m \u001b[49m\u001b[43m)\u001b[49m\n\u001b[1;32m      2\u001b[0m \u001b[38;5;28mprint\u001b[39m(\u001b[38;5;124m\"\u001b[39m\u001b[38;5;124mLo que el usuario escribió:\u001b[39m\u001b[38;5;124m\"\u001b[39m, entrada)\n\u001b[1;32m      3\u001b[0m \u001b[38;5;28mtype\u001b[39m(entrada)\n",
      "\u001b[0;31mValueError\u001b[0m: invalid literal for int() with base 10: 'hola'"
     ]
    }
   ],
   "source": [
    "entrada = int( input(\"Escribe un numero:\") )\n",
    "print(\"Lo que el usuario escribió:\", entrada)\n",
    "type(entrada)"
   ]
  },
  {
   "cell_type": "code",
   "execution_count": 36,
   "metadata": {},
   "outputs": [
    {
     "data": {
      "text/plain": [
       "list"
      ]
     },
     "execution_count": 36,
     "metadata": {},
     "output_type": "execute_result"
    }
   ],
   "source": [
    "unaListaNum = [2,66,344,5,6, 7879]\n",
    "type(unaListaNum)"
   ]
  },
  {
   "cell_type": "code",
   "execution_count": 39,
   "metadata": {},
   "outputs": [
    {
     "name": "stdout",
     "output_type": "stream",
     "text": [
      "['textos', 1, True]\n",
      "textos\n"
     ]
    }
   ],
   "source": [
    "cajonDeSastre = [\"textos\", 1, True]\n",
    "print(cajonDeSastre)\n",
    "print(cajonDeSastre[0])"
   ]
  },
  {
   "cell_type": "code",
   "execution_count": 41,
   "metadata": {},
   "outputs": [
    {
     "name": "stdout",
     "output_type": "stream",
     "text": [
      "['numeros', 1, True]\n"
     ]
    }
   ],
   "source": [
    "cajonDeSastre[0] = \"numeros\"\n",
    "print(cajonDeSastre)"
   ]
  },
  {
   "cell_type": "code",
   "execution_count": 44,
   "metadata": {},
   "outputs": [
    {
     "name": "stdout",
     "output_type": "stream",
     "text": [
      "('textos', 1, True)\n",
      "True\n"
     ]
    }
   ],
   "source": [
    "unTupla = (\"textos\", 1, True)\n",
    "print(unTupla)\n",
    "print(unTupla[2])"
   ]
  },
  {
   "cell_type": "code",
   "execution_count": 46,
   "metadata": {},
   "outputs": [
    {
     "ename": "TypeError",
     "evalue": "'tuple' object does not support item assignment",
     "output_type": "error",
     "traceback": [
      "\u001b[0;31m---------------------------------------------------------------------------\u001b[0m",
      "\u001b[0;31mTypeError\u001b[0m                                 Traceback (most recent call last)",
      "Cell \u001b[0;32mIn[46], line 1\u001b[0m\n\u001b[0;32m----> 1\u001b[0m \u001b[43munTupla\u001b[49m\u001b[43m[\u001b[49m\u001b[38;5;241;43m0\u001b[39;49m\u001b[43m]\u001b[49m \u001b[38;5;241m=\u001b[39m \u001b[38;5;124m\"\u001b[39m\u001b[38;5;124mNumeros\u001b[39m\u001b[38;5;124m\"\u001b[39m\n",
      "\u001b[0;31mTypeError\u001b[0m: 'tuple' object does not support item assignment"
     ]
    }
   ],
   "source": [
    "unTupla[0] = \"Numeros\""
   ]
  },
  {
   "cell_type": "code",
   "execution_count": 48,
   "metadata": {},
   "outputs": [
    {
     "data": {
      "text/plain": [
       "('textos', 1)"
      ]
     },
     "execution_count": 48,
     "metadata": {},
     "output_type": "execute_result"
    }
   ],
   "source": [
    "unTupla[0:2]"
   ]
  },
  {
   "cell_type": "code",
   "execution_count": 51,
   "metadata": {},
   "outputs": [
    {
     "data": {
      "text/plain": [
       "set"
      ]
     },
     "execution_count": 51,
     "metadata": {},
     "output_type": "execute_result"
    }
   ],
   "source": [
    "unConjunto = {\"textos\", 1, True}\n",
    "type(unConjunto)"
   ]
  },
  {
   "cell_type": "code",
   "execution_count": 54,
   "metadata": {},
   "outputs": [
    {
     "name": "stdout",
     "output_type": "stream",
     "text": [
      "{'texto': 'Un Texto', 'numero': 34, 'booleano': False}\n"
     ]
    },
    {
     "data": {
      "text/plain": [
       "dict"
      ]
     },
     "execution_count": 54,
     "metadata": {},
     "output_type": "execute_result"
    }
   ],
   "source": [
    "unDiccionario = {\"texto\":\"Un Texto\",\"numero\":34, \"booleano\": False}\n",
    "print(unDiccionario)\n",
    "type(unDiccionario)"
   ]
  },
  {
   "cell_type": "code",
   "execution_count": 58,
   "metadata": {},
   "outputs": [
    {
     "data": {
      "text/plain": [
       "34"
      ]
     },
     "execution_count": 58,
     "metadata": {},
     "output_type": "execute_result"
    }
   ],
   "source": [
    "unDiccionario['numero']"
   ]
  },
  {
   "cell_type": "code",
   "execution_count": 62,
   "metadata": {},
   "outputs": [
    {
     "name": "stdout",
     "output_type": "stream",
     "text": [
      "Toda la veterinaria: {'perros': [{'nombre': 'Lazy', 'tipo': 'perro', 'edad': 3, 'peso': 20}, {'nombre': 'Lazy2', 'tipo': 'perro', 'edad': 3, 'peso': 20}], 'focas': [{'nombre': 'Flipper', 'tipo': 'foca', 'edad': 10, 'peso': 120}, {'nombre': 'Flipper2', 'tipo': 'foca', 'edad': 10, 'peso': 120}]}\n",
      "2º foca: {'nombre': 'Flipper2', 'tipo': 'foca', 'edad': 10, 'peso': 120}\n"
     ]
    }
   ],
   "source": [
    "lazy = {\"nombre\": \"Lazy\", \"tipo\": \"perro\", \"edad\": 3, \"peso\": 20}\n",
    "lazy2 = {\"nombre\": \"Lazy2\", \"tipo\": \"perro\", \"edad\": 3, \"peso\": 20}\n",
    "flipper = {\"nombre\": \"Flipper\", \"tipo\": \"foca\", \"edad\": 10, \"peso\": 120}\n",
    "flipper2 = {\"nombre\": \"Flipper2\", \"tipo\": \"foca\", \"edad\": 10, \"peso\": 120}\n",
    "\n",
    "perros = [ lazy, lazy2 ]\n",
    "focas = [ flipper, flipper2 ]\n",
    "\n",
    "veterinaria = {\"perros\": perros, \"focas\": focas}\n",
    "\n",
    "print(\"Toda la veterinaria:\", veterinaria)\n",
    "\n",
    "print(\"2º foca:\",veterinaria['focas'][1])\n"
   ]
  }
 ],
 "metadata": {
  "kernelspec": {
   "display_name": "Python 3 (ipykernel)",
   "language": "python",
   "name": "python3"
  },
  "language_info": {
   "codemirror_mode": {
    "name": "ipython",
    "version": 3
   },
   "file_extension": ".py",
   "mimetype": "text/x-python",
   "name": "python",
   "nbconvert_exporter": "python",
   "pygments_lexer": "ipython3",
   "version": "3.10.11"
  }
 },
 "nbformat": 4,
 "nbformat_minor": 2
}
