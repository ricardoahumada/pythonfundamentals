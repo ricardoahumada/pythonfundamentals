{
 "cells": [
  {
   "cell_type": "markdown",
   "metadata": {},
   "source": [
    "## Ejercicios 4"
   ]
  },
  {
   "cell_type": "code",
   "execution_count": null,
   "metadata": {},
   "outputs": [
    {
     "name": "stdout",
     "output_type": "stream",
     "text": [
      "3\n"
     ]
    }
   ],
   "source": [
    "# Genera un programa que encuentre el mayor de 3 números en tres variables, usando solo if-elif-else\n",
    "n1 = 2\n",
    "n2 = 3\n",
    "n3 = 3\n",
    "\n",
    "if n1>=n2 and n1>=n3:\n",
    "    print(n1)\n",
    "\n",
    "elif n2>=n1 and n2>=n3:\n",
    "    print(n2)\n",
    "\n",
    "elif n3>=n1 and n3>=n2:\n",
    "    print(n3)"
   ]
  },
  {
   "cell_type": "code",
   "execution_count": 2,
   "metadata": {},
   "outputs": [
    {
     "name": "stdout",
     "output_type": "stream",
     "text": [
      "9\n"
     ]
    }
   ],
   "source": [
    "# Extendiende la lógica anterior para una lista de números\n",
    "nums = [1, 2, 5, 3, 9]\n",
    "\n",
    "mayor = 0\n",
    "\n",
    "for num in nums:\n",
    "    if (num > mayor):\n",
    "        mayor = num\n",
    "\n",
    "print(mayor)"
   ]
  },
  {
   "cell_type": "code",
   "execution_count": 3,
   "metadata": {},
   "outputs": [
    {
     "name": "stdout",
     "output_type": "stream",
     "text": [
      "9\n"
     ]
    }
   ],
   "source": [
    "# Extendiende la lógica antarior para un diccionario: {'john':4, 'Anna': 7, 'Peter': 1, 'Riga': 9}\n",
    "\n",
    "dict1 = {'john':4, 'Anna': 7, 'Peter': 1, 'Riga': 9}\n",
    "\n",
    "mayor = 0\n",
    "\n",
    "for key, val in dict1.items():\n",
    "    if (val > mayor):\n",
    "        mayor = val\n",
    "\n",
    "print(mayor)\n"
   ]
  },
  {
   "cell_type": "code",
   "execution_count": 4,
   "metadata": {},
   "outputs": [
    {
     "name": "stdout",
     "output_type": "stream",
     "text": [
      "NO PERMITIDO: dn1\n",
      "NO PERMITIDO: dn2\n",
      "NO PERMITIDO: dn2\n",
      "NO PERMITIDO: dn3\n",
      "NO PERMITIDO: dn4\n",
      "NO PERMITIDO: dn5\n",
      "NO PERMITIDO: dn7\n",
      "PERMITIDO ENTRAR: dni1\n",
      "Quedan: 3\n",
      "PERMITIDO ENTRAR: dni2\n",
      "Quedan: 2\n",
      "PERMITIDO ENTRAR: dni3\n",
      "Quedan: 1\n",
      "PERMITIDO ENTRAR: dni4\n",
      "COMPLETADO\n"
     ]
    }
   ],
   "source": [
    "'''\n",
    "La fiesta VIP de John\n",
    "John desea realizar una fiesta VIP; pero el año anterior una persona se coló utilizando el mismo nombre de otra. Y por eso John ha decidido este año que el portero pida el número de documento.\n",
    "El programa deberá tener una lista de dnis aprobados. El portero deberá poder introducir el número de documento de quien solicita entrar a la fiesta y comprobar si existe en la lista. Si está, se muestra un PERMITIDO ENTRAR. Luego debe mostrar cuántas personas de la lista quedan por entrar.\n",
    "Si no está en la lista, deberá indicar NO PERMITIDO y seguir esperando un nuevo documento.\n",
    "Cuando se complete la lista, seberá indicar COMPLETADO y salir.\n",
    "La lista una vez definida por John, no debe poder modificarse.\n",
    "'''\n",
    "\n",
    "dnis = ('dni1','dni2','dni3','dni4')\n",
    "mutable_dnis = list(dnis)\n",
    "quedan = len(dnis)\n",
    "\n",
    "while quedan:\n",
    "    aDni = input('dni?')\n",
    "\n",
    "    if aDni in mutable_dnis:\n",
    "        print('PERMITIDO ENTRAR:', aDni)\n",
    "        mutable_dnis.remove(aDni)\n",
    "        quedan = len(mutable_dnis)\n",
    "\n",
    "        if quedan:\n",
    "            print('Quedan:', quedan)\n",
    "        else:\n",
    "            print('COMPLETADO')\n",
    "            \n",
    "    else:\n",
    "        print('NO PERMITIDO:', aDni)"
   ]
  },
  {
   "cell_type": "code",
   "execution_count": 5,
   "metadata": {},
   "outputs": [],
   "source": [
    "notas = {\n",
    "\"Sosanna\": [{'maths': (4, 3)}, {'lang': (5, 5)}], \n",
    "\"Rosalind\": [{'maths': (8, 6)}, {'lang': (10, 5)}], \n",
    "\"Gaspar\": [{'maths': (1, 6)}, {'lang': (7, 5)}], \n",
    "\"Herve\": [{'maths': (2, 5)}, {'lang': (8, 2)}], \n",
    "\"Jayme\": [{'maths': (5, 1)}, {'lang': (10, 7)}], \n",
    "\"Dasya\": [{'maths': (5, 3)}, {'lang': (8, 2)}], \n",
    "\"Christean\": [{'maths': (2, 10)}, {'lang': (3, 6)}], \n",
    "\"Risa\": [{'maths': (9, 9)}, {'lang': (2, 7)}], \n",
    "\"Florenza\": [{'maths': (10, 6)}, {'lang': (5, 5)}], \n",
    "\"Donella\": [{'maths': (10, 3)}, {'lang': (8, 3)}], \n",
    "\"Cesaro\": [{'maths': (2, 4)}, {'lang': (1, 7)}], \n",
    "\"Beatrisa\": [{'maths': (9, 2)}, {'lang': (1, 5)}], \n",
    "\"Thain\": [{'maths': (1, 7)}, {'lang': (6, 3)}], \n",
    "\"Shaylah\": [{'maths': (6, 7)}, {'lang': (2, 1)}], \n",
    "\"Anne-marie\": [{'maths': (4, 6)}, {'lang': (4, 3)}], \n",
    "\"Swen\": [{'maths': (8, 5)}, {'lang': (7, 6)}], \n",
    "\"Vaclav\": [{'maths': (1, 4)}, {'lang': (9, 10)}], \n",
    "\"Hermine\": [{'maths': (2, 1)}, {'lang': (8, 1)}], \n",
    "\"Sybyl\": [{'maths': (10, 2)}, {'lang': (3, 10)}], \n",
    "\"Ynes\": [{'maths': (6, 10)}, {'lang': (3, 2)}], \n",
    "\"Antonie\": [{'maths': (9, 3)}, {'lang': (4, 9)}], \n",
    "\"Trixie\": [{'maths': (9, 10)}, {'lang': (5, 4)}], \n",
    "\"Mathilde\": [{'maths': (4, 5)}, {'lang': (8, 1)}], \n",
    "\"Merlina\": [{'maths': (6, 8)}, {'lang': (4, 6)}], \n",
    "\"Zared\": [{'maths': (1, 9)}, {'lang': (5, 3)}], \n",
    "\"Brandais\": [{'maths': (3, 3)}, {'lang': (7, 1)}], \n",
    "\"Reggie\": [{'maths': (10, 2)}, {'lang': (10, 8)}], \n",
    "\"Burk\": [{'maths': (8, 7)}, {'lang': (5, 5)}], \n",
    "\"Seymour\": [{'maths': (5, 8)}, {'lang': (8, 3)}], \n",
    "\"Fergus\": [{'maths': (2, 3)}, {'lang': (5, 5)}], \n",
    "\"Jeanette\": [{'maths': (1, 5)}, {'lang': (5, 4)}], \n",
    "\"Arther\": [{'maths': (5, 5)}, {'lang': (9, 5)}], \n",
    "\"Avictor\": [{'maths': (9, 2)}, {'lang': (8, 5)}], \n",
    "\"Lynette\": [{'maths': (7, 2)}, {'lang': (10, 6)}], \n",
    "\"Briano\": [{'maths': (2, 2)}, {'lang': (4, 6)}], \n",
    "\"Daveta\": [{'maths': (4, 7)}, {'lang': (2, 9)}], \n",
    "\"Devonne\": [{'maths': (10, 2)}, {'lang': (6, 8)}], \n",
    "\"Chiarra\": [{'maths': (6, 1)}, {'lang': (4, 3)}], \n",
    "\"Torrey\": [{'maths': (2, 9)}, {'lang': (1, 3)}], \n",
    "\"Hattie\": [{'maths': (2, 5)}, {'lang': (7, 2)}], \n",
    "\"Florenza\": [{'maths': (10, 5)}, {'lang': (4, 4)}], \n",
    "\"Veronica\": [{'maths': (8, 6)}, {'lang': (3, 4)}], \n",
    "\"Jared\": [{'maths': (6, 1)}, {'lang': (1, 3)}], \n",
    "\"Lori\": [{'maths': (6, 1)}, {'lang': (10, 10)}], \n",
    "\"Kristopher\": [{'maths': (1, 2)}, {'lang': (4, 9)}], \n",
    "\"Jeanne\": [{'maths': (1, 1)}, {'lang': (1, 4)}], \n",
    "\"Maximilian\": [{'maths': (3, 3)}, {'lang': (10, 9)}], \n",
    "\"Merrily\": [{'maths': (5, 7)}, {'lang': (1, 3)}], \n",
    "\"Skipton\": [{'maths': (9, 6)}, {'lang': (4, 9)}], \n",
    "\"Tom\": [{'maths': (10, 5)}, {'lang': (1, 7)}], \n",
    "\"Cirilo\": [{'maths': (2, 2)}, {'lang': (6, 6)}], \n",
    "\"Warde\": [{'maths': (8, 7)}, {'lang': (9, 5)}], \n",
    "\"Woodie\": [{'maths': (10, 3)}, {'lang': (2, 1)}], \n",
    "\"Odetta\": [{'maths': (3, 7)}, {'lang': (7, 9)}], \n",
    "\"Cordelie\": [{'maths': (2, 3)}, {'lang': (9, 1)}], \n",
    "\"Wilow\": [{'maths': (10, 8)}, {'lang': (2, 6)}], \n",
    "\"Charissa\": [{'maths': (5, 3)}, {'lang': (5, 10)}], \n",
    "\"Ralina\": [{'maths': (10, 9)}, {'lang': (8, 2)}], \n",
    "\"Charisse\": [{'maths': (6, 5)}, {'lang': (1, 9)}], \n",
    "\"Huntley\": [{'maths': (8, 7)}, {'lang': (10, 3)}], \n",
    "\"Ella\": [{'maths': (4, 3)}, {'lang': (6, 8)}], \n",
    "\"Nelli\": [{'maths': (2, 6)}, {'lang': (5, 10)}], \n",
    "\"Gearalt\": [{'maths': (4, 9)}, {'lang': (4, 4)}], \n",
    "\"Zahara\": [{'maths': (2, 1)}, {'lang': (1, 4)}], \n",
    "\"Dilan\": [{'maths': (8, 6)}, {'lang': (7, 6)}], \n",
    "\"Frederique\": [{'maths': (5, 10)}, {'lang': (2, 8)}], \n",
    "\"Saba\": [{'maths': (9, 8)}, {'lang': (9, 9)}], \n",
    "\"Natalya\": [{'maths': (1, 5)}, {'lang': (5, 2)}], \n",
    "\"Myrah\": [{'maths': (3, 8)}, {'lang': (3, 5)}], \n",
    "\"Magnum\": [{'maths': (7, 1)}, {'lang': (2, 9)}], \n",
    "\"Grace\": [{'maths': (9, 4)}, {'lang': (6, 6)}], \n",
    "\"Ilysa\": [{'maths': (10, 9)}, {'lang': (8, 8)}], \n",
    "\"Clerkclaude\": [{'maths': (7, 2)}, {'lang': (10, 2)}], \n",
    "\"Yetty\": [{'maths': (8, 6)}, {'lang': (2, 4)}], \n",
    "\"Cassandre\": [{'maths': (6, 1)}, {'lang': (9, 5)}], \n",
    "\"Olympie\": [{'maths': (3, 3)}, {'lang': (10, 3)}], \n",
    "\"Joshuah\": [{'maths': (7, 7)}, {'lang': (9, 2)}], \n",
    "\"Kristine\": [{'maths': (3, 4)}, {'lang': (7, 7)}], \n",
    "\"Dean\": [{'maths': (8, 6)}, {'lang': (10, 10)}], \n",
    "\"Ilyssa\": [{'maths': (9, 7)}, {'lang': (5, 3)}], \n",
    "\"Nannie\": [{'maths': (6, 9)}, {'lang': (2, 10)}], \n",
    "\"Feodor\": [{'maths': (5, 6)}, {'lang': (3, 7)}], \n",
    "\"Guglielma\": [{'maths': (10, 3)}, {'lang': (9, 6)}], \n",
    "\"Alla\": [{'maths': (9, 10)}, {'lang': (7, 7)}], \n",
    "\"Rowland\": [{'maths': (4, 10)}, {'lang': (8, 7)}], \n",
    "\"Miquela\": [{'maths': (7, 5)}, {'lang': (2, 7)}], \n",
    "\"Sapphira\": [{'maths': (4, 6)}, {'lang': (5, 2)}], \n",
    "\"Zorina\": [{'maths': (3, 2)}, {'lang': (4, 9)}], \n",
    "\"Rosemonde\": [{'maths': (10, 6)}, {'lang': (9, 9)}], \n",
    "\"Alisa\": [{'maths': (1, 4)}, {'lang': (9, 5)}], \n",
    "\"Ginger\": [{'maths': (3, 4)}, {'lang': (1, 2)}], \n",
    "\"Karlis\": [{'maths': (9, 8)}, {'lang': (3, 1)}], \n",
    "\"Robbin\": [{'maths': (7, 5)}, {'lang': (10, 8)}], \n",
    "\"Kimberly\": [{'maths': (3, 7)}, {'lang': (8, 1)}], \n",
    "\"Udale\": [{'maths': (7, 1)}, {'lang': (1, 7)}], \n",
    "\"Isidor\": [{'maths': (8, 2)}, {'lang': (6, 3)}], \n",
    "\"Farlee\": [{'maths': (5, 10)}, {'lang': (9, 9)}], \n",
    "\"Katleen\": [{'maths': (8, 6)}, {'lang': (9, 3)}], \n",
    "\"Nanine\": [{'maths': (5, 7)}, {'lang': (9, 9)}], \n",
    "\"Marlow\": [{'maths': (2, 4)}, {'lang': (5, 2)}]\n",
    "}"
   ]
  },
  {
   "cell_type": "code",
   "execution_count": 6,
   "metadata": {},
   "outputs": [
    {
     "name": "stdout",
     "output_type": "stream",
     "text": [
      "Sosanna [{'maths': (4, 3)}, {'lang': (5, 5)}]\n",
      "{'maths': (4, 3)}\n",
      "{'lang': (5, 5)}\n",
      "Rosalind [{'maths': (8, 6)}, {'lang': (10, 5)}]\n",
      "{'maths': (8, 6)}\n",
      "{'lang': (10, 5)}\n",
      "Gaspar [{'maths': (1, 6)}, {'lang': (7, 5)}]\n",
      "{'maths': (1, 6)}\n",
      "{'lang': (7, 5)}\n"
     ]
    }
   ],
   "source": [
    "# 1- Completar la nota media de cada alumno por asignatura.\n",
    "copia_notas = dict(notas)\n",
    "\n",
    "lnotas = list(copia_notas.items())\n",
    "subnotas = dict(lnotas[:3])\n",
    "\n",
    "for alumno, asignaturas in subnotas.items():\n",
    "    print(alumno, asignaturas)\n",
    "    for asignatura in asignaturas:\n",
    "        print(asignatura)\n"
   ]
  }
 ],
 "metadata": {
  "kernelspec": {
   "display_name": "Python 3 (ipykernel)",
   "language": "python",
   "name": "python3"
  },
  "language_info": {
   "codemirror_mode": {
    "name": "ipython",
    "version": 3
   },
   "file_extension": ".py",
   "mimetype": "text/x-python",
   "name": "python",
   "nbconvert_exporter": "python",
   "pygments_lexer": "ipython3",
   "version": "3.10.11"
  }
 },
 "nbformat": 4,
 "nbformat_minor": 2
}
