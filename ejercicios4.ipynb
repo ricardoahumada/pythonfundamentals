{
 "cells": [
  {
   "cell_type": "markdown",
   "metadata": {},
   "source": [
    "## Ejercicios 4"
   ]
  },
  {
   "cell_type": "code",
   "execution_count": 29,
   "metadata": {},
   "outputs": [
    {
     "name": "stdout",
     "output_type": "stream",
     "text": [
      "3\n"
     ]
    }
   ],
   "source": [
    "# Genera un programa que encuentre el mayor de 3 números en tres variables, usando solo if-elif-else\n",
    "n1 = 2\n",
    "n2 = 3\n",
    "n3 = 3\n",
    "\n",
    "if n1>=n2 and n1>=n3:\n",
    "    print(n1)\n",
    "\n",
    "elif n2>=n1 and n2>=n3:\n",
    "    print(n2)\n",
    "\n",
    "elif n3>=n1 and n3>=n2:\n",
    "    print(n3)"
   ]
  },
  {
   "cell_type": "code",
   "execution_count": 21,
   "metadata": {},
   "outputs": [
    {
     "name": "stdout",
     "output_type": "stream",
     "text": [
      "9\n"
     ]
    }
   ],
   "source": [
    "# Extendiende la lógica anterior para una lista de números\n",
    "nums = [1, 2, 5, 3, 9]\n",
    "\n",
    "mayor = 0\n",
    "\n",
    "for num in nums:\n",
    "    if (num > mayor):\n",
    "        mayor = num\n",
    "\n",
    "print(mayor)"
   ]
  },
  {
   "cell_type": "code",
   "execution_count": 30,
   "metadata": {},
   "outputs": [
    {
     "name": "stdout",
     "output_type": "stream",
     "text": [
      "9\n"
     ]
    }
   ],
   "source": [
    "# Extendiende la lógica antarior para un diccionario: {'john':4, 'Anna': 7, 'Peter': 1, 'Riga': 9}\n",
    "\n",
    "dict1 = {'john':4, 'Anna': 7, 'Peter': 1, 'Riga': 9}\n",
    "\n",
    "mayor = 0\n",
    "\n",
    "for key, val in dict1.items():\n",
    "    if (val > mayor):\n",
    "        mayor = val\n",
    "\n",
    "print(mayor)\n"
   ]
  },
  {
   "cell_type": "code",
   "execution_count": null,
   "metadata": {},
   "outputs": [
    {
     "name": "stdout",
     "output_type": "stream",
     "text": [
      "NO PERMITIDO: dni11\n"
     ]
    }
   ],
   "source": [
    "'''\n",
    "La fiesta VIP de John\n",
    "John desea realizar una fiesta VIP; pero el año anterior una persona se coló utilizando el mismo nombre de otra. Y por eso John ha decidido este año que el portero pida el número de documento.\n",
    "El programa deberá tener una lista de dnis aprobados. El portero deberá poder introducir el número de documento de quien solicita entrar a la fiesta y comprobar si existe en la lista. Si está, se muestra un PERMITIDO ENTRAR. Luego debe mostrar cuántas personas de la lista quedan por entrar.\n",
    "Si no está en la lista, deberá indicar NO PERMITIDO y seguir esperando un nuevo documento.\n",
    "Cuando se complete la lista, seberá indicar COMPLETADO y salir.\n",
    "La lista una vez definida por John, no debe poder modificarse.\n",
    "'''\n",
    "\n",
    "dnis = ('dni1','dni2','dni3','dni4')\n",
    "mutable_dnis = list(dnis)\n",
    "quedan = len(dnis)\n",
    "\n",
    "while quedan:\n",
    "    aDni = input('dni?')\n",
    "\n",
    "    if aDni in mutable_dnis:\n",
    "        print('PERMITIDO ENTRAR:', aDni)\n",
    "        mutable_dnis.remove(aDni)\n",
    "        quedan = len(mutable_dnis)\n",
    "\n",
    "        if quedan:\n",
    "            print('Quedan:', quedan)\n",
    "        else:\n",
    "            print('COMPLETADO')\n",
    "            \n",
    "    else:\n",
    "        print('NO PERMITIDO:', aDni)"
   ]
  }
 ],
 "metadata": {
  "kernelspec": {
   "display_name": "Python 3 (ipykernel)",
   "language": "python",
   "name": "python3"
  },
  "language_info": {
   "codemirror_mode": {
    "name": "ipython",
    "version": 3
   },
   "file_extension": ".py",
   "mimetype": "text/x-python",
   "name": "python",
   "nbconvert_exporter": "python",
   "pygments_lexer": "ipython3",
   "version": "3.10.11"
  }
 },
 "nbformat": 4,
 "nbformat_minor": 2
}
