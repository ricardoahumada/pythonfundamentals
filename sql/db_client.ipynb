{
 "cells": [
  {
   "cell_type": "markdown",
   "metadata": {},
   "source": [
    "# Python - SQL"
   ]
  },
  {
   "cell_type": "code",
   "execution_count": 3,
   "metadata": {},
   "outputs": [],
   "source": [
    "import psycopg2\n",
    "\n",
    "\n",
    "def create_server_connection():\n",
    "\n",
    "    PGHOST = '...'\n",
    "    PGDATABASE = '...'\n",
    "    PGUSER = '...'\n",
    "    PGPASSWORD = '...'\n",
    "\n",
    "    conn = None\n",
    "    try:\n",
    "        conn = psycopg2.connect(database=PGDATABASE, user=PGUSER,\n",
    "                                password=PGPASSWORD, host=PGHOST, port=5432)\n",
    "        print(\"Database conn successful\")\n",
    "    except Error as err:\n",
    "        print(f\"Error: '{err}'\")\n",
    "\n",
    "    return conn\n",
    "\n",
    "\n"
   ]
  },
  {
   "cell_type": "code",
   "execution_count": null,
   "metadata": {},
   "outputs": [],
   "source": [
    "# CREAR TABLA\n",
    "conn = create_server_connection()\n",
    "\n",
    "# Open a cursor to perform database operations\n",
    "cur = conn.cursor()\n",
    "# Execute a command: create datafund_students table\n",
    "try:\n",
    "    cur.execute(\"\"\"CREATE TABLE datafund_students(\n",
    "                student_id SERIAL PRIMARY KEY,\n",
    "                student_name VARCHAR (50) UNIQUE NOT NULL,\n",
    "                student_email VARCHAR (100) NOT NULL,\n",
    "                student_age INT NOT NULL);\n",
    "                \"\"\")\n",
    "    # Make the changes to the database persistent\n",
    "    conn.commit()\n",
    "except Error as err:\n",
    "        print(f\"Error: '{err}'\")\n",
    "        conn.rollback()\n",
    "\n",
    "# Close cursor and communication with the database\n",
    "cur.close()\n",
    "conn.close()"
   ]
  },
  {
   "cell_type": "code",
   "execution_count": null,
   "metadata": {},
   "outputs": [],
   "source": [
    "# INSERT\n",
    "conn = create_server_connection()\n",
    "\n",
    "cur = conn.cursor()\n",
    "\n",
    "cur.execute(\"INSERT INTO datafund_students(student_name, student_email, student_age) VALUES('Pedro','p@p.es',34)\")\n",
    "cur.execute(\"INSERT INTO datafund_students(student_name, student_email, student_age) VALUES('Anna','a@a.es',43)\")\n",
    "cur.execute(\"INSERT INTO datafund_students(student_name, student_email, student_age) VALUES('Luisa','l@l.es',54)\")\n",
    "cur.execute(\"INSERT INTO datafund_students(student_name, student_email, student_age) VALUES('Juan','j@j.es',21)\")\n",
    "\n",
    "conn.commit()\n",
    "cur.close()\n",
    "conn.close()"
   ]
  },
  {
   "cell_type": "code",
   "execution_count": null,
   "metadata": {},
   "outputs": [],
   "source": [
    "# SELECT\n",
    "conn = create_server_connection()\n",
    "\n",
    "cur = conn.cursor()\n",
    "cur.execute('SELECT * FROM datafund_students;')\n",
    "rows = cur.fetchall()\n",
    "conn.commit()\n",
    "cur.close()\n",
    "conn.close()\n",
    "\n",
    "for row in rows:\n",
    "    print(row)\n"
   ]
  },
  {
   "cell_type": "code",
   "execution_count": null,
   "metadata": {},
   "outputs": [],
   "source": [
    "# UPDATE\n",
    "conn = create_server_connection()\n",
    "\n",
    "cur = conn.cursor()\n",
    "cur.execute(\"UPDATE datafund_students SET student_age = 23 WHERE student_name = 'Juan';\")\n",
    "conn.commit()\n",
    "cur.close()\n",
    "conn.close()"
   ]
  },
  {
   "cell_type": "code",
   "execution_count": null,
   "metadata": {},
   "outputs": [],
   "source": [
    "# DELETE\n",
    "conn = create_server_connection()\n",
    "\n",
    "cur = conn.cursor()\n",
    "cur.execute(\"\"\"DELETE from datafund_students WHERE student_name = 'Luisa'\"\"\");\n",
    "conn.commit()\n",
    "cur.close()\n",
    "conn.close()\n"
   ]
  },
  {
   "cell_type": "code",
   "execution_count": null,
   "metadata": {},
   "outputs": [],
   "source": [
    "# JOIN\n",
    "conn = create_server_connection()\n",
    "\n",
    "cur = conn.cursor()\n",
    "cur.execute(\"\"\"SELECT DISTINCT p.customerNumber, p.checkNumber, p.paymentDate, p.amount FROM payments p \n",
    "LEFT JOIN sales s ON s.customerNumber=p.customerNumber WHERE s.customerNumber IS NOT NULL ORDER BY p.customerNumber\"\"\")\n",
    "\n",
    "rows = cur.fetchall()\n",
    "for row in rows:\n",
    "    print(row)\n",
    "\n",
    "cur.close()\n",
    "conn.close()"
   ]
  }
 ],
 "metadata": {
  "kernelspec": {
   "display_name": "Python 3.8 - AzureML",
   "language": "python",
   "name": "python38-azureml"
  },
  "language_info": {
   "codemirror_mode": {
    "name": "ipython",
    "version": 3
   },
   "file_extension": ".py",
   "mimetype": "text/x-python",
   "name": "python",
   "nbconvert_exporter": "python",
   "pygments_lexer": "ipython3",
   "version": "3.10.11"
  }
 },
 "nbformat": 4,
 "nbformat_minor": 2
}
