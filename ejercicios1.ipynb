{
 "cells": [
  {
   "cell_type": "markdown",
   "metadata": {},
   "source": [
    "## Ejercicios 1"
   ]
  },
  {
   "cell_type": "code",
   "execution_count": 1,
   "metadata": {},
   "outputs": [
    {
     "name": "stdout",
     "output_type": "stream",
     "text": [
      "Toda la veterinaria: {'perros': [{'nombre': 'Lazy', 'tipo': 'perro', 'edad': 3, 'peso': 20}, {'nombre': 'Lazy2', 'tipo': 'perro', 'edad': 3, 'peso': 20}], 'focas': [{'nombre': 'Flipper', 'tipo': 'foca', 'edad': 10, 'peso': 120}, {'nombre': 'Flipper2', 'tipo': 'foca', 'edad': 10, 'peso': 120}]}\n",
      "2º foca: {'nombre': 'Flipper2', 'tipo': 'foca', 'edad': 10, 'peso': 120}\n"
     ]
    }
   ],
   "source": [
    "lazy = {\"nombre\": \"Lazy\", \"tipo\": \"perro\", \"edad\": 3, \"peso\": 20}\n",
    "lazy2 = {\"nombre\": \"Lazy2\", \"tipo\": \"perro\", \"edad\": 3, \"peso\": 20}\n",
    "flipper = {\"nombre\": \"Flipper\", \"tipo\": \"foca\", \"edad\": 10, \"peso\": 120}\n",
    "flipper2 = {\"nombre\": \"Flipper2\", \"tipo\": \"foca\", \"edad\": 10, \"peso\": 120}\n",
    "\n",
    "perros = [ lazy, lazy2 ]\n",
    "focas = [ flipper, flipper2 ]\n",
    "\n",
    "veterinaria = {\"perros\": perros, \"focas\": focas}\n",
    "\n",
    "print(\"Toda la veterinaria:\", veterinaria)\n",
    "\n",
    "print(\"2º foca:\",veterinaria['focas'][1])\n"
   ]
  }
 ],
 "metadata": {
  "kernelspec": {
   "display_name": "Python 3 (ipykernel)",
   "language": "python",
   "name": "python3"
  }
 },
 "nbformat": 4,
 "nbformat_minor": 2
}
