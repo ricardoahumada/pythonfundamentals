{
 "cells": [
  {
   "cell_type": "markdown",
   "metadata": {},
   "source": [
    "## Librerias"
   ]
  },
  {
   "cell_type": "code",
   "execution_count": 1,
   "metadata": {},
   "outputs": [],
   "source": [
    "import math\n",
    "\n",
    "math.pi"
   ]
  },
  {
   "cell_type": "code",
   "execution_count": 2,
   "metadata": {},
   "outputs": [],
   "source": [
    "from math import pi, nan, sin\n",
    "\n",
    "print(pi)\n",
    "print(nan)\n",
    "\n",
    "print(sin(90))"
   ]
  },
  {
   "cell_type": "code",
   "execution_count": 3,
   "metadata": {},
   "outputs": [],
   "source": [
    "import statistics as st\n",
    "\n",
    "nums = list(range(1, 1000))\n",
    "\n",
    "print(nums)\n",
    "\n",
    "m = st.mean(nums)\n",
    "sd = st.stdev(nums)\n",
    "mod = st.mode(nums)\n",
    "\n",
    "print(m, sd, mod)"
   ]
  },
  {
   "cell_type": "markdown",
   "metadata": {},
   "source": [
    "### Files"
   ]
  },
  {
   "cell_type": "code",
   "execution_count": 4,
   "metadata": {},
   "outputs": [],
   "source": [
    "import os, sys\n",
    "\n",
    "print(os.getcwd())\n",
    "print(sys.argv[0])\n",
    "print(os.path.dirname(os.path.realpath('__file__')))\n",
    "\n",
    "dir_path = os.path.realpath('/home/azureuser/cloudfiles/code/Users/ricardo/pythonfundamentals/')\n",
    "print(dir_path)"
   ]
  },
  {
   "cell_type": "code",
   "execution_count": 5,
   "metadata": {},
   "outputs": [],
   "source": [
    "base_path = os.getcwd()\n",
    "raiz = base_path+'/Users/ricardo/pythonfundamentals/files/'"
   ]
  },
  {
   "cell_type": "code",
   "execution_count": 6,
   "metadata": {},
   "outputs": [],
   "source": [
    "\n",
    "texto = \"\"\"Este es un texto\n",
    "que contiene\n",
    "múltiples líneas\n",
    "otras LINEAS\n",
    "\"\"\"\n",
    "\n",
    "try:\n",
    "    f_out = open(raiz + \"sample.txt\", 'w')\n",
    "    f_out.write(texto)\n",
    "    f_out.close()\n",
    "except Error as err:\n",
    "    print('problema con acceso al archivo', err)"
   ]
  },
  {
   "cell_type": "code",
   "execution_count": 16,
   "metadata": {},
   "outputs": [],
   "source": [
    "try:\n",
    "    f_in = open(raiz + \"sample.txt\", 'r')\n",
    "\n",
    "    for line in f_in:\n",
    "        print(line.rstrip())\n",
    "\n",
    "    f_in.close()\n",
    "\n",
    "except Error as err:\n",
    "    print('problema con acceso al archivo', err)"
   ]
  },
  {
   "cell_type": "code",
   "execution_count": 17,
   "metadata": {},
   "outputs": [],
   "source": [
    "try:\n",
    "    lista = open(raiz + \"sample.txt\", 'r').readlines()\n",
    "    lista_limpia = list(map(lambda l: l.rstrip(), lista))\n",
    "    print(lista_limpia)\n",
    "\n",
    "except Error as err:\n",
    "    print('problema con acceso al archivo', err)"
   ]
  },
  {
   "cell_type": "code",
   "execution_count": 18,
   "metadata": {},
   "outputs": [],
   "source": [
    "try:\n",
    "    texto = open(raiz + \"sample.txt\", 'r').read()\n",
    "    print(texto)\n",
    "\n",
    "except Error as err:\n",
    "    print('problema con acceso al archivo', err)"
   ]
  },
  {
   "cell_type": "code",
   "execution_count": 19,
   "metadata": {},
   "outputs": [],
   "source": [
    "f_path = raiz + \"sample.txt\"\n",
    "print(f_path)\n",
    "\n",
    "\n",
    "isOk = os.path.isfile(f_path)\n",
    "print(isOk)\n",
    "\n",
    "if isOk:\n",
    "    os.remove(f_path)\n",
    "    print('Borrado')\n",
    "else:\n",
    "    print('No existe')"
   ]
  }
 ],
 "metadata": {
  "kernelspec": {
   "display_name": "Python 3 (ipykernel)",
   "language": "python",
   "name": "python3"
  }
 },
 "nbformat": 4,
 "nbformat_minor": 2
}
