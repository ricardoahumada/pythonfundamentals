{
 "cells": [
  {
   "cell_type": "code",
   "execution_count": 1,
   "metadata": {},
   "outputs": [
    {
     "name": "stdout",
     "output_type": "stream",
     "text": [
      "Estoy en el if\n",
      "Sí es >= 2\n",
      "No es 4!!\n"
     ]
    }
   ],
   "source": [
    "n = 3\n",
    "\n",
    "\n",
    "if n >= 2 and n < 5:\n",
    "    print('Estoy en el if')\n",
    "    print('Sí es >= 2')\n",
    "    if n == 4:\n",
    "        print('Es un 4!!')\n",
    "    else:\n",
    "        print('No es 4!!')\n",
    "\n",
    "elif n >= 5 and n < 7:\n",
    "    print('es mayor que 5')\n",
    "\n",
    "elif n >= 7:\n",
    "    print('es mayor que 7')\n",
    "\n",
    "else:\n",
    "    print(\"Es menor que 2\")"
   ]
  },
  {
   "cell_type": "code",
   "execution_count": null,
   "metadata": {},
   "outputs": [],
   "source": [
    "n = n*2\n",
    "txt = 'Hola'\n",
    "\n",
    "if txt in 'Hola mundo':\n",
    "    print('hola está en la frase')"
   ]
  },
  {
   "cell_type": "code",
   "execution_count": null,
   "metadata": {},
   "outputs": [],
   "source": [
    "l1 = [1, 2, 3, 4]\n",
    "t1 = (1, 2, 3, 4)\n",
    "s1 = {1, 2, 3, 4}\n",
    "d1 = {'a': 1, 'b': 2, 'z': 0, 'c': 3, 'd': 4}\n",
    "\n",
    "# d1.items() -> (k,v)\n",
    "\n",
    "for key, val in d1.items():\n",
    "    print(key, val)\n",
    "\n",
    "    if val > 1:\n",
    "        print('No sigo en esta iteración!!')\n",
    "        continue\n",
    "\n",
    "    if val > 2:\n",
    "        print('mayor que 2')\n",
    "    else:\n",
    "        print('menor que 3')\n",
    "\n",
    "    if val == 0:\n",
    "        print('Salgo!!')\n",
    "        break"
   ]
  },
  {
   "cell_type": "code",
   "execution_count": null,
   "metadata": {},
   "outputs": [],
   "source": [
    "contador = 0\n",
    "nsec = 10\n",
    "\n",
    "while contador < 10:\n",
    "    print('Estoy en el while...')\n",
    "    print(contador)\n",
    "    contador += 1  # contador = contador + 1\n",
    "    nsec = nsec - 1\n",
    "    if not nsec:\n",
    "        break"
   ]
  },
  {
   "cell_type": "code",
   "execution_count": null,
   "metadata": {},
   "outputs": [],
   "source": [
    "l1 = [1, 2, 3, 4, 5]\n",
    "\n",
    "index = 0\n",
    "\n",
    "while index < len(l1):\n",
    "    print(l1[index])\n",
    "    index += 1"
   ]
  },
  {
   "cell_type": "code",
   "execution_count": null,
   "metadata": {},
   "outputs": [],
   "source": [
    "d1 = {'a': 1, 'b': 2, 'z': 0, 'c': 3, 'd': 4}\n",
    "l1 = list(d1.items())\n",
    "\n",
    "idx = 0\n",
    "\n",
    "while idx < len(l1):\n",
    "    key, val = l1[idx]\n",
    "    idx += 1\n",
    "\n",
    "    print(key, val)\n",
    "\n",
    "    if val > 1:\n",
    "        print('No sigo en esta iteración!!')\n",
    "        continue\n",
    "\n",
    "    if val > 2:\n",
    "        print('mayor que 2')\n",
    "    else:\n",
    "        print('menor que 3')\n",
    "\n",
    "    if val == 0:\n",
    "        print('Salgo!!')\n",
    "        break\n"
   ]
  },
  {
   "cell_type": "code",
   "execution_count": null,
   "metadata": {},
   "outputs": [
    {
     "name": "stdout",
     "output_type": "stream",
     "text": [
      "has escogido: 4\n",
      "Salgo\n"
     ]
    }
   ],
   "source": [
    "opcion = 0\n",
    "\n",
    "while opcion != 4:\n",
    "    try:\n",
    "        opcion = int(input('Escoge estre 1,2,3,4'))\n",
    "    except:\n",
    "        print('debe ser un número')\n",
    "\n",
    "    if(opcion<0 or opcion>4):\n",
    "        print('Debe ser 1,2,3 o4')\n",
    "    else:\n",
    "        print('has escogido:', opcion)\n",
    "\n",
    "    if opcion == 4:\n",
    "        print('Salgo')"
   ]
  },
  {
   "cell_type": "code",
   "execution_count": 2,
   "metadata": {},
   "outputs": [
    {
     "name": "stdout",
     "output_type": "stream",
     "text": [
      "[('a', 1), ('b', 2), ('z', 0), ('c', 3), ('d', 4)]\n",
      "fila: ('a', 1)\n",
      "col: a\n",
      "col: 1\n",
      "fila: ('b', 2)\n",
      "col: b\n",
      "col: 2\n",
      "fila: ('z', 0)\n",
      "col: z\n",
      "col: 0\n",
      "fila: ('c', 3)\n",
      "col: c\n",
      "col: 3\n",
      "fila: ('d', 4)\n",
      "col: d\n",
      "col: 4\n"
     ]
    }
   ],
   "source": [
    "d1 = {'a': 1, 'b': 2, 'z': 0, 'c': 3, 'd': 4}\n",
    "l1 = list(d1.items())\n",
    "\n",
    "print(l1)\n",
    "\n",
    "for fila in l1:\n",
    "    print('fila:',fila)\n",
    "\n",
    "    for col in fila:\n",
    "        print('col:',col)"
   ]
  }
 ],
 "metadata": {
  "kernelspec": {
   "display_name": "Python 3",
   "language": "python",
   "name": "python3"
  },
  "language_info": {
   "codemirror_mode": {
    "name": "ipython",
    "version": 3
   },
   "file_extension": ".py",
   "mimetype": "text/x-python",
   "name": "python",
   "nbconvert_exporter": "python",
   "pygments_lexer": "ipython3",
   "version": "3.9.5"
  }
 },
 "nbformat": 4,
 "nbformat_minor": 2
}
