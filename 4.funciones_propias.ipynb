{
 "cells": [
  {
   "cell_type": "code",
   "execution_count": null,
   "metadata": {},
   "outputs": [
    {
     "name": "stdout",
     "output_type": "stream",
     "text": [
      "Hola mundo\n",
      "Hola Ric\n",
      "Hola Anna\n",
      "Estas son unas palabras \n"
     ]
    }
   ],
   "source": [
    "def impremeTexto(texto):\n",
    "    print(texto)\n",
    "\n",
    "\n",
    "palabras = 'Estas son unas palabras '\n",
    "\n",
    "impremeTexto('Hola mundo')\n",
    "impremeTexto('Hola Ric')\n",
    "impremeTexto('Hola Anna')\n",
    "\n",
    "impremeTexto(palabras)"
   ]
  },
  {
   "cell_type": "code",
   "execution_count": null,
   "metadata": {},
   "outputs": [
    {
     "name": "stdout",
     "output_type": "stream",
     "text": [
      "Estas son unas palabras !!!\n",
      "32\n"
     ]
    }
   ],
   "source": [
    "texto = 'Estas son unas palabras '\n",
    "un_numero = 22\n",
    "\n",
    "\"\"\" def impremeTexto(texto):\n",
    "    texto = texto + '!!!'\n",
    "    print(texto)\n",
    "    un_numero += 10\n",
    "    print(un_numero)\n",
    "\n",
    "\n",
    "impremeTexto(texto)\n",
    "print(texto) \"\"\"\n",
    "\n",
    "\n",
    "def impremeTextoMejorada(texto, num):\n",
    "    texto = texto + '!!!'\n",
    "    print(texto)\n",
    "    num += 10\n",
    "    print(num)\n",
    "\n",
    "\n",
    "impremeTextoMejorada(texto, un_numero)"
   ]
  },
  {
   "cell_type": "code",
   "execution_count": null,
   "metadata": {},
   "outputs": [
    {
     "name": "stdout",
     "output_type": "stream",
     "text": [
      "La comision para: Juan es 350.0\n",
      "None\n",
      "Informe con: 350.0\n",
      "Informe con: 590.0\n",
      "Informe con: 220.0\n"
     ]
    }
   ],
   "source": [
    "def calculo_comision(list_ventas, porc):\n",
    "    # comision = sum(list_ventas)*porc/100\n",
    "    suma = 0\n",
    "    for venta in list_ventas:\n",
    "        suma += venta\n",
    "\n",
    "    comision = suma*porc/100\n",
    "    # print(comision)\n",
    "    return comision\n",
    "\n",
    "\n",
    "def imprimirInforme(nombre, comision):\n",
    "    print('La comision para:', nombre, 'es', comision)\n",
    "\n",
    "\n",
    "def generadorInformeComisiones(nombre, ventas, porcentaje):\n",
    "    valor_comision = calculo_comision(ventas, porcentaje)\n",
    "    print(imprimirInforme(nombre, valor_comision))\n",
    "\n",
    "\n",
    "# PROGRAMA PRINCIPAL\n",
    "ventas_reales = [100, 3000, 400]\n",
    "porcentaje = 10\n",
    "\n",
    "generadorInformeComisiones('Juan', ventas_reales, porcentaje)\n",
    "\n",
    "\n",
    "todas_las_ventas = [\n",
    "    [100, 3000, 400],\n",
    "    [200, 5000, 700],\n",
    "    [500, 1000, 700]\n",
    "]\n",
    "\n",
    "for unas_ventas in todas_las_ventas:\n",
    "    valor_comision = calculo_comision(unas_ventas, porcentaje)\n",
    "    print('Informe con:', valor_comision)"
   ]
  },
  {
   "cell_type": "code",
   "execution_count": 33,
   "metadata": {},
   "outputs": [
    {
     "name": "stdout",
     "output_type": "stream",
     "text": [
      "[1, 2, 3, 4]\n",
      "[1, 2, 3]\n"
     ]
    }
   ],
   "source": [
    "def addElemsLista(unaLista):\n",
    "    interno = list(unaLista)\n",
    "    interno.append(4)\n",
    "    return interno\n",
    "\n",
    "\n",
    "l1 = [1, 2, 3]\n",
    "l2 = addElemsLista(l1)\n",
    "\n",
    "print(l2)\n",
    "\n",
    "print(l1)"
   ]
  },
  {
   "cell_type": "code",
   "execution_count": null,
   "metadata": {},
   "outputs": [
    {
     "name": "stdout",
     "output_type": "stream",
     "text": [
      "a: 3 b: 4\n",
      "a: 2 b: 1\n"
     ]
    },
    {
     "data": {
      "text/plain": [
       "3"
      ]
     },
     "execution_count": 50,
     "metadata": {},
     "output_type": "execute_result"
    }
   ],
   "source": [
    "def suma(a, b):\n",
    "    print('a:', a, 'b:', b)\n",
    "    return a+b\n",
    "\n",
    "\n",
    "val = suma(3, 4)\n",
    "val = suma(b=1, a=2)\n",
    "val"
   ]
  },
  {
   "cell_type": "code",
   "execution_count": null,
   "metadata": {},
   "outputs": [
    {
     "name": "stdout",
     "output_type": "stream",
     "text": [
      "(1, 2, 3, 4)\n",
      "1\n",
      "2\n",
      "3\n",
      "4\n",
      "1 2 3 4\n",
      "2 4 6 8\n"
     ]
    }
   ],
   "source": [
    "def suma2(*args):\n",
    "    print(args)\n",
    "\n",
    "    for anArg in args:\n",
    "        print(anArg)\n",
    "\n",
    "    (a, b, c, d) = args\n",
    "\n",
    "    print(a, b, c, d)\n",
    "    return (a*2, b*2, c*2, d*2)\n",
    "\n",
    "\n",
    "w, x, y, z = suma2(1, 2, 3, 4)\n",
    "\n",
    "print(w, x, y, z)"
   ]
  },
  {
   "cell_type": "code",
   "execution_count": null,
   "metadata": {},
   "outputs": [
    {
     "name": "stdout",
     "output_type": "stream",
     "text": [
      "1 2 10 20 30\n"
     ]
    }
   ],
   "source": [
    "def suma3(a, b, *args):\n",
    "    print(a, b, *args)\n",
    "\n",
    "\n",
    "suma3(1, 2, 10, 20, 30)"
   ]
  },
  {
   "cell_type": "code",
   "execution_count": 63,
   "metadata": {},
   "outputs": [
    {
     "name": "stdout",
     "output_type": "stream",
     "text": [
      "{'a': 1, 'b': 2, 'c': 3}\n"
     ]
    }
   ],
   "source": [
    "def suma4(**kargs):\n",
    "    print(kargs)\n",
    "\n",
    "\n",
    "suma4(a=1, b=2, c=3)"
   ]
  },
  {
   "cell_type": "code",
   "execution_count": 73,
   "metadata": {},
   "outputs": [
    {
     "name": "stdout",
     "output_type": "stream",
     "text": [
      "3\n",
      "1\n"
     ]
    }
   ],
   "source": [
    "def suma5(a, b=0, c=0):\n",
    "    sum = 0\n",
    "    if b:\n",
    "        sum = a + b\n",
    "    elif c:\n",
    "        sum += c\n",
    "    else:\n",
    "        sum=a\n",
    "\n",
    "    print(sum)\n",
    "\n",
    "suma5(1,2)\n",
    "suma5(1)"
   ]
  },
  {
   "cell_type": "code",
   "execution_count": 75,
   "metadata": {},
   "outputs": [
    {
     "name": "stdout",
     "output_type": "stream",
     "text": [
      "1 2\n",
      "continuar\n"
     ]
    }
   ],
   "source": [
    "def generaPDFYGuarda(a,b):\n",
    "    # proceso y genero informe\n",
    "    print(a,b)\n",
    "    return True\n",
    "\n",
    "isOk = generaPDFYGuarda(1,2)\n",
    "\n",
    "if isOk:\n",
    "    print('continuar')\n",
    "else:\n",
    "    print('parar')\n",
    "\n",
    "# resto programa"
   ]
  },
  {
   "cell_type": "code",
   "execution_count": 82,
   "metadata": {},
   "outputs": [
    {
     "name": "stdout",
     "output_type": "stream",
     "text": [
      "1156\n",
      "1156\n"
     ]
    }
   ],
   "source": [
    "def cuadrado(n):\n",
    "    return n**2\n",
    "\n",
    "\n",
    "cuadradoL = lambda n: n**2\n",
    "\n",
    "\n",
    "type(cuadradoL)\n",
    "\n",
    "print(cuadrado(34))\n",
    "print(cuadradoL(34))"
   ]
  },
  {
   "cell_type": "code",
   "execution_count": 87,
   "metadata": {},
   "outputs": [
    {
     "name": "stdout",
     "output_type": "stream",
     "text": [
      "2\n",
      "<function miFunc at 0x7fd221423490>\n",
      "4\n",
      "2\n",
      "<function <lambda> at 0x7fd221392320>\n",
      "6\n"
     ]
    }
   ],
   "source": [
    "def funcEspecial(num, unaFuncion):\n",
    "    print(num)\n",
    "    print(unaFuncion)\n",
    "    res = unaFuncion(num)\n",
    "    print(res)\n",
    "\n",
    "\n",
    "unNum = 2\n",
    "\n",
    "\n",
    "def miFunc(val):\n",
    "    return val*2\n",
    "\n",
    "\n",
    "funcEspecial(unNum, miFunc)\n",
    "\n",
    "funcEspecial(unNum, lambda x: x*3)"
   ]
  }
 ],
 "metadata": {
  "kernelspec": {
   "display_name": "Python 3 (ipykernel)",
   "language": "python",
   "name": "python3"
  },
  "language_info": {
   "codemirror_mode": {
    "name": "ipython",
    "version": 3
   },
   "file_extension": ".py",
   "mimetype": "text/x-python",
   "name": "python",
   "nbconvert_exporter": "python",
   "pygments_lexer": "ipython3",
   "version": "3.10.11"
  }
 },
 "nbformat": 4,
 "nbformat_minor": 2
}
